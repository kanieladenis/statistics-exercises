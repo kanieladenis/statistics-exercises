{
 "cells": [
  {
   "cell_type": "markdown",
   "id": "1437573a",
   "metadata": {},
   "source": [
    "## 1. A bank found that the average number of cars waiting during the noon hour at a drive-up window follows a Poisson distribution with a mean of 2 cars. Make a chart of this distribution and answer these questions concerning the probability of cars waiting at the drive-up window."
   ]
  },
  {
   "cell_type": "code",
   "execution_count": 28,
   "id": "03abb39e",
   "metadata": {},
   "outputs": [],
   "source": [
    "import matplotlib.pyplot as plt\n",
    "import numpy as np\n",
    "import pandas as pd\n",
    "from scipy import stats\n",
    "import viz\n",
    "\n",
    "np.random.seed(22)"
   ]
  },
  {
   "cell_type": "code",
   "execution_count": 2,
   "id": "325d67d2",
   "metadata": {},
   "outputs": [
    {
     "data": {
      "text/plain": [
       "<scipy.stats._distn_infrastructure.rv_frozen at 0x7f8dd0916310>"
      ]
     },
     "execution_count": 2,
     "metadata": {},
     "output_type": "execute_result"
    }
   ],
   "source": [
    "mean = 2\n",
    "\n",
    "driveup = stats.poisson(mean)\n",
    "driveup"
   ]
  },
  {
   "cell_type": "code",
   "execution_count": 3,
   "id": "5493f14c",
   "metadata": {},
   "outputs": [
    {
     "data": {
      "text/plain": [
       "Text(0.5, 1.0, 'Poisson Distribution $')"
      ]
     },
     "execution_count": 3,
     "metadata": {},
     "output_type": "execute_result"
    },
    {
     "data": {
      "image/png": "[encoded data removed]",
      "text/plain": [
       "<Figure size 648x432 with 1 Axes>"
      ]
     },
     "metadata": {
      "needs_background": "light"
     },
     "output_type": "display_data"
    }
   ],
   "source": [
    "x = np.arange(0,10)\n",
    "y = stats.poisson(mean).pmf(x)\n",
    "\n",
    "plt.bar(x,y)\n",
    "plt.xlabel('number of cars')\n",
    "plt.ylabel('P(X)')\n",
    "plt.title('Poisson Distribution $')"
   ]
  },
  {
   "cell_type": "markdown",
   "id": "78d9b59a",
   "metadata": {},
   "source": [
    "### What is the probability that no cars drive up in the noon hour?"
   ]
  },
  {
   "cell_type": "code",
   "execution_count": 4,
   "id": "a379e8d2",
   "metadata": {},
   "outputs": [
    {
     "data": {
      "text/plain": [
       "0.1353352832366127"
      ]
     },
     "execution_count": 4,
     "metadata": {},
     "output_type": "execute_result"
    }
   ],
   "source": [
    "stats.poisson(2).pmf(0)"
   ]
  },
  {
   "cell_type": "markdown",
   "id": "1fd25bfe",
   "metadata": {},
   "source": [
    "### What is the probability that 3 or more cars come through the drive through?"
   ]
  },
  {
   "cell_type": "code",
   "execution_count": 5,
   "id": "7304af4f",
   "metadata": {},
   "outputs": [
    {
     "data": {
      "text/plain": [
       "0.32332358381693654"
      ]
     },
     "execution_count": 5,
     "metadata": {},
     "output_type": "execute_result"
    }
   ],
   "source": [
    "stats.poisson(2).sf(2)"
   ]
  },
  {
   "cell_type": "markdown",
   "id": "efa9ea50",
   "metadata": {},
   "source": [
    "### How likely is it that the drive through gets at least 1 car?"
   ]
  },
  {
   "cell_type": "code",
   "execution_count": 6,
   "id": "d7e8249a",
   "metadata": {},
   "outputs": [
    {
     "data": {
      "text/plain": [
       "0.8646647167633873"
      ]
     },
     "execution_count": 6,
     "metadata": {},
     "output_type": "execute_result"
    }
   ],
   "source": [
    "stats.poisson(2).sf(0)"
   ]
  },
  {
   "cell_type": "markdown",
   "id": "a8cf2279",
   "metadata": {},
   "source": [
    "## 2. Grades of State University graduates are normally distributed with a mean of 3.0 and a standard deviation of .3. Calculate the following:"
   ]
  },
  {
   "cell_type": "code",
   "execution_count": 7,
   "id": "13cdb794",
   "metadata": {},
   "outputs": [
    {
     "data": {
      "text/plain": [
       "<scipy.stats._distn_infrastructure.rv_frozen at 0x7f8de0bbaf10>"
      ]
     },
     "execution_count": 7,
     "metadata": {},
     "output_type": "execute_result"
    }
   ],
   "source": [
    "mean = 3\n",
    "stddev = .3\n",
    "\n",
    "grades_dist = stats.norm(mean,stddev)\n",
    "grades_dist\n"
   ]
  },
  {
   "cell_type": "code",
   "execution_count": 8,
   "id": "4b3d6b47",
   "metadata": {},
   "outputs": [
    {
     "data": {
      "text/plain": [
       "Text(0.5, 1.0, 'Normal Distribution of Grades')"
      ]
     },
     "execution_count": 8,
     "metadata": {},
     "output_type": "execute_result"
    },
    {
     "data": {
      "image/png": "[encoded data removed]",
      "text/plain": [
       "<Figure size 648x432 with 1 Axes>"
      ]
     },
     "metadata": {
      "needs_background": "light"
     },
     "output_type": "display_data"
    }
   ],
   "source": [
    "x = np.arange(0,5,.001)\n",
    "y = grades_dist.pdf(x)\n",
    "\n",
    "plt.plot(x,y)\n",
    "plt.xlabel('students')\n",
    "plt.ylabel('P(x)')\n",
    "plt.title('Normal Distribution of Grades')"
   ]
  },
  {
   "cell_type": "markdown",
   "id": "35810a38",
   "metadata": {},
   "source": [
    "### What grade point average is required to be in the top 5% of the graduating class?"
   ]
  },
  {
   "cell_type": "code",
   "execution_count": 9,
   "id": "b7ce9ff0",
   "metadata": {},
   "outputs": [
    {
     "data": {
      "text/plain": [
       "3.5252058213756507"
      ]
     },
     "execution_count": 9,
     "metadata": {},
     "output_type": "execute_result"
    }
   ],
   "source": [
    "grades_dist.isf(.04)"
   ]
  },
  {
   "cell_type": "markdown",
   "id": "832dc870",
   "metadata": {},
   "source": [
    "### What GPA constitutes the bottom 15% of the class?"
   ]
  },
  {
   "cell_type": "code",
   "execution_count": 10,
   "id": "affaea08",
   "metadata": {},
   "outputs": [
    {
     "data": {
      "text/plain": [
       "2.689069983151863"
      ]
     },
     "execution_count": 10,
     "metadata": {},
     "output_type": "execute_result"
    }
   ],
   "source": [
    "grades_dist.ppf(.15)"
   ]
  },
  {
   "cell_type": "markdown",
   "id": "00593dfe",
   "metadata": {},
   "source": [
    "### An eccentric alumnus left scholarship money for students in the third decile from the bottom of their class. Determine the range of the third decile. Would a student with a 2.8 grade point average qualify for this scholarship?"
   ]
  },
  {
   "cell_type": "code",
   "execution_count": 11,
   "id": "56c815c2",
   "metadata": {},
   "outputs": [
    {
     "data": {
      "text/plain": [
       "2.9239958690592602"
      ]
     },
     "execution_count": 11,
     "metadata": {},
     "output_type": "execute_result"
    }
   ],
   "source": [
    "third_decile = (grades_dist.ppf(.4)) - (grades_dist.cdf(.3))\n",
    "third_decile\n",
    "# 2.8 would not qualify"
   ]
  },
  {
   "cell_type": "markdown",
   "id": "d57d1d31",
   "metadata": {},
   "source": [
    "### If I have a GPA of 3.5, what percentile am I in?"
   ]
  },
  {
   "cell_type": "code",
   "execution_count": 12,
   "id": "98219999",
   "metadata": {},
   "outputs": [
    {
     "data": {
      "text/plain": [
       "0.9522096477271853"
      ]
     },
     "execution_count": 12,
     "metadata": {},
     "output_type": "execute_result"
    }
   ],
   "source": [
    "grades_dist.cdf(3.5)\n",
    "# 95th percentile"
   ]
  },
  {
   "cell_type": "markdown",
   "id": "2e5e0759",
   "metadata": {},
   "source": [
    "## 3. A marketing website has an average click-through rate of 2%. One day they observe 4326 visitors and 97 click-throughs. How likely is it that this many people or more click through?"
   ]
  },
  {
   "cell_type": "code",
   "execution_count": 13,
   "id": "67655c2b",
   "metadata": {},
   "outputs": [
    {
     "data": {
      "text/plain": [
       "86.52"
      ]
     },
     "execution_count": 13,
     "metadata": {},
     "output_type": "execute_result"
    }
   ],
   "source": [
    "avg_rate = .02\n",
    "n_visitors = 4326\n",
    "n_avg_clicks = avg_rate * n_visitors\n",
    "n_avg_clicks\n"
   ]
  },
  {
   "cell_type": "code",
   "execution_count": 14,
   "id": "6927a988",
   "metadata": {},
   "outputs": [
    {
     "data": {
      "text/plain": [
       "0.11781530585907925"
      ]
     },
     "execution_count": 14,
     "metadata": {},
     "output_type": "execute_result"
    }
   ],
   "source": [
    "n_clicks = 97\n",
    "\n",
    "stats.binom(n_visitors, avg_rate).sf(n_clicks)"
   ]
  },
  {
   "cell_type": "markdown",
   "id": "b4f1439e",
   "metadata": {},
   "source": [
    "## 4. You are working on some statistics homework consisting of 100 questions where all of the answers are a probability rounded to the hundreths place. Looking to save time, you put down random probabilities as the answer to each question.\n",
    "### What is the probability that at least one of your first 60 answers is correct?"
   ]
  },
  {
   "cell_type": "code",
   "execution_count": 15,
   "id": "2f0a8eeb",
   "metadata": {},
   "outputs": [
    {
     "data": {
      "text/plain": [
       "0.4528433576092388"
      ]
     },
     "execution_count": 15,
     "metadata": {},
     "output_type": "execute_result"
    }
   ],
   "source": [
    "stats.binom(60,.01).sf(0)"
   ]
  },
  {
   "cell_type": "markdown",
   "id": "5faa331b",
   "metadata": {},
   "source": [
    "## 5. The codeup staff tends to get upset when the student break area is not cleaned up. Suppose that there's a 3% chance that any one student cleans the break area when they visit it, and, on any given day, about 90% of the 3 active cohorts of 22 students visit the break area.   "
   ]
  },
  {
   "cell_type": "code",
   "execution_count": 51,
   "id": "af172430",
   "metadata": {
    "scrolled": true
   },
   "outputs": [
    {
     "data": {
      "text/plain": [
       "<scipy.stats._distn_infrastructure.rv_frozen at 0x7f8dd2ab6520>"
      ]
     },
     "execution_count": 51,
     "metadata": {},
     "output_type": "execute_result"
    }
   ],
   "source": [
    "p_cleaning = .03\n",
    "students = 66\n",
    "r_visits = .9\n",
    "n_days = 1\n",
    "students_visit = round(students * r_visits * n_days)\n",
    "# the probability distribution that a student will clean that day ( 0 students to 8 students)\n",
    "cleaning = stats.binom(students_visit, p_cleaning)\n",
    "cleaning"
   ]
  },
  {
   "cell_type": "markdown",
   "id": "119cfe26",
   "metadata": {},
   "source": [
    "### How likely is it that the break area gets cleaned up each day?"
   ]
  },
  {
   "cell_type": "code",
   "execution_count": 49,
   "id": "1aace049",
   "metadata": {},
   "outputs": [
    {
     "data": {
      "text/plain": [
       "0.8342199288437355"
      ]
     },
     "execution_count": 49,
     "metadata": {},
     "output_type": "execute_result"
    }
   ],
   "source": [
    "#excludes no students cleaning\n",
    "cleaning.sf(0)"
   ]
  },
  {
   "cell_type": "code",
   "execution_count": 50,
   "id": "dbed29c1",
   "metadata": {},
   "outputs": [
    {
     "data": {
      "text/plain": [
       "Text(0.5, 0, 'Number of time area is cleaned per day')"
      ]
     },
     "execution_count": 50,
     "metadata": {},
     "output_type": "execute_result"
    },
    {
     "data": {
      "image/png": "[encoded data removed]",
      "text/plain": [
       "<Figure size 648x432 with 1 Axes>"
      ]
     },
     "metadata": {
      "needs_background": "light"
     },
     "output_type": "display_data"
    }
   ],
   "source": [
    "x = np.arange(0, 10)\n",
    "y = stats.binom(students_visit,p_cleaning).pmf(x)\n",
    "\n",
    "plt.bar(x, y)\n",
    "plt.xlabel('Number of time area is cleaned per day')"
   ]
  },
  {
   "cell_type": "markdown",
   "id": "89df69c3",
   "metadata": {},
   "source": [
    "### How likely is it that it goes two days without getting cleaned up?"
   ]
  },
  {
   "cell_type": "code",
   "execution_count": 52,
   "id": "301a989b",
   "metadata": {},
   "outputs": [
    {
     "data": {
      "text/plain": [
       "0.026658541032798945"
      ]
     },
     "execution_count": 52,
     "metadata": {},
     "output_type": "execute_result"
    }
   ],
   "source": [
    "# changes days to two, selects zero students cleaning \n",
    "n_days = 2\n",
    "students_visit = round(students * r_visits * n_days)\n",
    "cleaning = stats.binom(students_visit, p_cleaning)\n",
    "cleaning.pmf(0)"
   ]
  },
  {
   "cell_type": "markdown",
   "id": "e36c50b0",
   "metadata": {},
   "source": [
    "### [Not Cleaned] All week?"
   ]
  },
  {
   "cell_type": "code",
   "execution_count": 53,
   "id": "f9144b66",
   "metadata": {},
   "outputs": [
    {
     "data": {
      "text/plain": [
       "0.00011781621791055166"
      ]
     },
     "execution_count": 53,
     "metadata": {},
     "output_type": "execute_result"
    }
   ],
   "source": [
    "# changes days to five, selects zero students cleaning\n",
    "n_days = 5\n",
    "students_visit = round(students * r_visits * n_days)\n",
    "cleaning = stats.binom(students_visit, p_cleaning)\n",
    "cleaning.pmf(0)"
   ]
  },
  {
   "cell_type": "markdown",
   "id": "5cb169fc",
   "metadata": {},
   "source": [
    "## 6. You want to get lunch at La Panaderia, but notice that the line is usually very long at lunchtime. After several weeks of careful observation, you notice that the average number of people in line when your lunch break starts is normally distributed with a mean of 15 and standard deviation of 3. If it takes 2 minutes for each person to order, and 10 minutes from ordering to getting your food, what is the likelihood that you have at least 15 minutes left to eat your food before you have to go back to class? Assume you have one hour for lunch, and ignore travel time to and from La Panaderia."
   ]
  },
  {
   "cell_type": "code",
   "execution_count": 20,
   "id": "8646d9cc",
   "metadata": {},
   "outputs": [],
   "source": [
    "get_food_mins = 2\n",
    "order_food_mins = 10\n",
    "eat_food_mins = 15\n",
    "lunch_break = 60\n",
    "\n",
    "\n",
    "μ = (15 * get_food_mins) + order_food_mins + eat_food_mins\n",
    "σ = (3 * get_food_mins) + order_food_mins + eat_food_mins\n",
    "\n",
    "lunch = stats.norm(μ, σ)"
   ]
  },
  {
   "cell_type": "code",
   "execution_count": 21,
   "id": "1df456fe",
   "metadata": {},
   "outputs": [
    {
     "data": {
      "text/plain": [
       "0.5640676275336393"
      ]
     },
     "execution_count": 21,
     "metadata": {},
     "output_type": "execute_result"
    }
   ],
   "source": [
    "lunch.cdf(60)"
   ]
  },
  {
   "cell_type": "markdown",
   "id": "cde95b13",
   "metadata": {},
   "source": [
    "## 7. Connect to the employees database and find the average salary of current employees, along with the standard deviation. For the following questions, calculate the answer based on modeling the employees salaries with a normal distribution defined by the calculated mean and standard deviation then compare this answer to the actual values present in the salaries dataset."
   ]
  },
  {
   "cell_type": "code",
   "execution_count": 24,
   "id": "f27e75d8",
   "metadata": {},
   "outputs": [],
   "source": [
    "def get_db_url(db_name):\n",
    "    from env import host, user, password\n",
    "    return f'mysql+pymysql://{user}:{password}@{host}/{db_name}'"
   ]
  },
  {
   "cell_type": "code",
   "execution_count": 25,
   "id": "52152a9d",
   "metadata": {},
   "outputs": [],
   "source": [
    "url = get_db_url('employees')"
   ]
  },
  {
   "cell_type": "code",
   "execution_count": 26,
   "id": "972f6ac6",
   "metadata": {},
   "outputs": [],
   "source": [
    "sql = '''\n",
    "SELECT * FROM salaries s\n",
    "WHERE s.to_date > NOW()\n",
    "'''\n"
   ]
  },
  {
   "cell_type": "code",
   "execution_count": 31,
   "id": "a82118f0",
   "metadata": {
    "scrolled": true
   },
   "outputs": [
    {
     "data": {
      "text/html": [
       "<div>\n",
       "<style scoped>\n",
       "    .dataframe tbody tr th:only-of-type {\n",
       "        vertical-align: middle;\n",
       "    }\n",
       "\n",
       "    .dataframe tbody tr th {\n",
       "        vertical-align: top;\n",
       "    }\n",
       "\n",
       "    .dataframe thead th {\n",
       "        text-align: right;\n",
       "    }\n",
       "</style>\n",
       "<table border=\"1\" class=\"dataframe\">\n",
       "  <thead>\n",
       "    <tr style=\"text-align: right;\">\n",
       "      <th></th>\n",
       "      <th>emp_no</th>\n",
       "      <th>salary</th>\n",
       "      <th>from_date</th>\n",
       "      <th>to_date</th>\n",
       "    </tr>\n",
       "  </thead>\n",
       "  <tbody>\n",
       "    <tr>\n",
       "      <th>0</th>\n",
       "      <td>10001</td>\n",
       "      <td>88958</td>\n",
       "      <td>2002-06-22</td>\n",
       "      <td>9999-01-01</td>\n",
       "    </tr>\n",
       "    <tr>\n",
       "      <th>1</th>\n",
       "      <td>10002</td>\n",
       "      <td>72527</td>\n",
       "      <td>2001-08-02</td>\n",
       "      <td>9999-01-01</td>\n",
       "    </tr>\n",
       "    <tr>\n",
       "      <th>2</th>\n",
       "      <td>10003</td>\n",
       "      <td>43311</td>\n",
       "      <td>2001-12-01</td>\n",
       "      <td>9999-01-01</td>\n",
       "    </tr>\n",
       "    <tr>\n",
       "      <th>3</th>\n",
       "      <td>10004</td>\n",
       "      <td>74057</td>\n",
       "      <td>2001-11-27</td>\n",
       "      <td>9999-01-01</td>\n",
       "    </tr>\n",
       "    <tr>\n",
       "      <th>4</th>\n",
       "      <td>10005</td>\n",
       "      <td>94692</td>\n",
       "      <td>2001-09-09</td>\n",
       "      <td>9999-01-01</td>\n",
       "    </tr>\n",
       "  </tbody>\n",
       "</table>\n",
       "</div>"
      ],
      "text/plain": [
       "   emp_no  salary   from_date     to_date\n",
       "0   10001   88958  2002-06-22  9999-01-01\n",
       "1   10002   72527  2001-08-02  9999-01-01\n",
       "2   10003   43311  2001-12-01  9999-01-01\n",
       "3   10004   74057  2001-11-27  9999-01-01\n",
       "4   10005   94692  2001-09-09  9999-01-01"
      ]
     },
     "execution_count": 31,
     "metadata": {},
     "output_type": "execute_result"
    }
   ],
   "source": [
    "salaries = pd.read_sql(sql,url)\n",
    "salaries.head()"
   ]
  },
  {
   "cell_type": "code",
   "execution_count": 32,
   "id": "c98f6ac9",
   "metadata": {},
   "outputs": [],
   "source": [
    "# find mean and std dev to create normal distribution\n",
    "mean = salaries.salary.mean()\n",
    "std_dev = salaries.salary.std()"
   ]
  },
  {
   "cell_type": "markdown",
   "id": "239e47a0",
   "metadata": {},
   "source": [
    "### What percent of employees earn less than 60,000?"
   ]
  },
  {
   "cell_type": "code",
   "execution_count": 33,
   "id": "9fbc218c",
   "metadata": {},
   "outputs": [
    {
     "data": {
      "text/plain": [
       "0.24385742480214423"
      ]
     },
     "execution_count": 33,
     "metadata": {},
     "output_type": "execute_result"
    }
   ],
   "source": [
    "stats.norm(mean, std_dev).cdf(60_000)"
   ]
  },
  {
   "cell_type": "markdown",
   "id": "5034865d",
   "metadata": {},
   "source": [
    "### What percent of employees earn more than 95,000?"
   ]
  },
  {
   "cell_type": "code",
   "execution_count": 34,
   "id": "d389d6e5",
   "metadata": {},
   "outputs": [
    {
     "data": {
      "text/plain": [
       "0.09208819199804053"
      ]
     },
     "execution_count": 34,
     "metadata": {},
     "output_type": "execute_result"
    }
   ],
   "source": [
    "stats.norm(mean, std_dev).sf(95_000)"
   ]
  },
  {
   "cell_type": "markdown",
   "id": "f642da24",
   "metadata": {},
   "source": [
    "### What percent of employees earn between 65,000 and 80,000?"
   ]
  },
  {
   "cell_type": "code",
   "execution_count": 35,
   "id": "60cd4c64",
   "metadata": {},
   "outputs": [
    {
     "data": {
      "text/plain": [
       "array([0.33506057])"
      ]
     },
     "execution_count": 35,
     "metadata": {},
     "output_type": "execute_result"
    }
   ],
   "source": [
    "np.diff(stats.norm(mean, std_dev).cdf([65_000, 80_000]))"
   ]
  },
  {
   "cell_type": "code",
   "execution_count": 37,
   "id": "35108bd2",
   "metadata": {},
   "outputs": [
    {
     "data": {
      "text/plain": [
       "array([0.33506057])"
      ]
     },
     "execution_count": 37,
     "metadata": {},
     "output_type": "execute_result"
    }
   ],
   "source": [
    "np.diff(stats.norm(mean, std_dev).sf([80_000,65_000]))"
   ]
  },
  {
   "cell_type": "code",
   "execution_count": 39,
   "id": "5ebc5aa1",
   "metadata": {},
   "outputs": [
    {
     "data": {
      "text/plain": [
       "0.3350605685446666"
      ]
     },
     "execution_count": 39,
     "metadata": {},
     "output_type": "execute_result"
    }
   ],
   "source": [
    "(stats.norm(mean, std_dev).cdf(80_000)) - (stats.norm(mean, std_dev).cdf(65_000))"
   ]
  },
  {
   "cell_type": "markdown",
   "id": "478c9841",
   "metadata": {},
   "source": [
    "### What do the top 5% of employees make?"
   ]
  },
  {
   "cell_type": "code",
   "execution_count": 42,
   "id": "d4d915d4",
   "metadata": {},
   "outputs": [
    {
     "data": {
      "text/plain": [
       "100484.64454102777"
      ]
     },
     "execution_count": 42,
     "metadata": {},
     "output_type": "execute_result"
    }
   ],
   "source": [
    "stats.norm(mean, std_dev).isf(.05)"
   ]
  },
  {
   "cell_type": "code",
   "execution_count": 43,
   "id": "652797bd",
   "metadata": {},
   "outputs": [
    {
     "data": {
      "text/plain": [
       "104225.84999999998"
      ]
     },
     "execution_count": 43,
     "metadata": {},
     "output_type": "execute_result"
    }
   ],
   "source": [
    "# another way\n",
    "salaries.salary.quantile(0.95)"
   ]
  },
  {
   "cell_type": "code",
   "execution_count": 44,
   "id": "1a31d2c5",
   "metadata": {},
   "outputs": [
    {
     "data": {
      "text/plain": [
       "<AxesSubplot:>"
      ]
     },
     "execution_count": 44,
     "metadata": {},
     "output_type": "execute_result"
    },
    {
     "data": {
      "image/png": "[encoded data removed]",
      "text/plain": [
       "<Figure size 648x432 with 1 Axes>"
      ]
     },
     "metadata": {
      "needs_background": "light"
     },
     "output_type": "display_data"
    }
   ],
   "source": [
    "# Are the salaries really distributed normally?\n",
    "\n",
    "salaries.salary.hist(bins = 30)"
   ]
  },
  {
   "cell_type": "markdown",
   "id": "968a1f61",
   "metadata": {},
   "source": [
    "### Hint If you're looking at this exercise and wondering \"How do I get pandas to talk the database, again?\", remember that you'll need 3 things: your .gitignore, your env.py, and to use pd.read_sql.\n",
    "\n",
    "### Be sure to run the following 2 commands from your terminal: \n",
    "1. cp ~/codeup-data-science/numpy-pandas-visualization-exercises/.gitignore ~/codeup-data-science/statistics-exercises to ensure that your stats repo has a known-good gitignore \n",
    "2. cp ~/codeup-data-science/numpy-pandas-exercises/env.py ~/codeup-data-science/statistics-exercises to ensure that pandas will have access to your db credentials."
   ]
  },
  {
   "cell_type": "code",
   "execution_count": null,
   "id": "153a12b4",
   "metadata": {},
   "outputs": [],
   "source": []
  }
 ],
 "metadata": {
  "kernelspec": {
   "display_name": "Python 3",
   "language": "python",
   "name": "python3"
  },
  "language_info": {
   "codemirror_mode": {
    "name": "ipython",
    "version": 3
   },
   "file_extension": ".py",
   "mimetype": "text/x-python",
   "name": "python",
   "nbconvert_exporter": "python",
   "pygments_lexer": "ipython3",
   "version": "3.8.8"
  }
 },
 "nbformat": 4,
 "nbformat_minor": 5
}
