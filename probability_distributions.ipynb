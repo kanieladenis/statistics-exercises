{
 "cells": [
  {
   "cell_type": "markdown",
   "id": "1437573a",
   "metadata": {},
   "source": [
    "## 1. A bank found that the average number of cars waiting during the noon hour at a drive-up window follows a Poisson distribution with a mean of 2 cars. Make a chart of this distribution and answer these questions concerning the probability of cars waiting at the drive-up window."
   ]
  },
  {
   "cell_type": "code",
   "execution_count": 4,
   "id": "e7de89aa",
   "metadata": {},
   "outputs": [],
   "source": [
    "import matplotlib.pyplot as plt\n",
    "import numpy as np\n",
    "from scipy import stats\n",
    "import viz\n",
    "\n",
    "np.random.seed(22)"
   ]
  },
  {
   "cell_type": "code",
   "execution_count": 25,
   "id": "325d67d2",
   "metadata": {},
   "outputs": [
    {
     "data": {
      "text/plain": [
       "<scipy.stats._distn_infrastructure.rv_frozen at 0x7ff911ee4be0>"
      ]
     },
     "execution_count": 25,
     "metadata": {},
     "output_type": "execute_result"
    }
   ],
   "source": [
    "mean = 2\n",
    "\n",
    "driveup = stats.poisson(mean)\n",
    "driveup"
   ]
  },
  {
   "cell_type": "code",
   "execution_count": 26,
   "id": "a39ec9cf",
   "metadata": {},
   "outputs": [
    {
     "data": {
      "text/plain": [
       "Text(0.5, 1.0, 'Poisson Distribution $')"
      ]
     },
     "execution_count": 26,
     "metadata": {},
     "output_type": "execute_result"
    },
    {
     "data": {
      "image/png": "[encoded data removed]",
      "text/plain": [
       "<Figure size 648x432 with 1 Axes>"
      ]
     },
     "metadata": {
      "needs_background": "light"
     },
     "output_type": "display_data"
    }
   ],
   "source": [
    "x = np.arange(0,10)\n",
    "y = stats.poisson(mean).pmf(x)\n",
    "\n",
    "plt.bar(x,y)\n",
    "plt.xlabel('number of cars')\n",
    "plt.ylabel('P(X)')\n",
    "plt.title('Poisson Distribution $')"
   ]
  },
  {
   "cell_type": "markdown",
   "id": "a433a359",
   "metadata": {},
   "source": [
    "### What is the probability that no cars drive up in the noon hour?"
   ]
  },
  {
   "cell_type": "code",
   "execution_count": 10,
   "id": "9d10d9f8",
   "metadata": {},
   "outputs": [
    {
     "data": {
      "text/plain": [
       "0.1353352832366127"
      ]
     },
     "execution_count": 10,
     "metadata": {},
     "output_type": "execute_result"
    }
   ],
   "source": [
    "stats.poisson(2).pmf(0)"
   ]
  },
  {
   "cell_type": "markdown",
   "id": "25cca9ee",
   "metadata": {},
   "source": [
    "### What is the probability that 3 or more cars come through the drive through?"
   ]
  },
  {
   "cell_type": "code",
   "execution_count": 12,
   "id": "fe4fa711",
   "metadata": {},
   "outputs": [
    {
     "data": {
      "text/plain": [
       "0.32332358381693654"
      ]
     },
     "execution_count": 12,
     "metadata": {},
     "output_type": "execute_result"
    }
   ],
   "source": [
    "stats.poisson(2).sf(2)"
   ]
  },
  {
   "cell_type": "markdown",
   "id": "33041392",
   "metadata": {},
   "source": [
    "### How likely is it that the drive through gets at least 1 car?"
   ]
  },
  {
   "cell_type": "code",
   "execution_count": 13,
   "id": "57f95ba4",
   "metadata": {},
   "outputs": [
    {
     "data": {
      "text/plain": [
       "0.8646647167633873"
      ]
     },
     "execution_count": 13,
     "metadata": {},
     "output_type": "execute_result"
    }
   ],
   "source": [
    "stats.poisson(2).sf(0)"
   ]
  },
  {
   "cell_type": "markdown",
   "id": "a8cf2279",
   "metadata": {},
   "source": [
    "## 2. Grades of State University graduates are normally distributed with a mean of 3.0 and a standard deviation of .3. Calculate the following:"
   ]
  },
  {
   "cell_type": "code",
   "execution_count": 30,
   "id": "fe9c3a47",
   "metadata": {},
   "outputs": [
    {
     "data": {
      "text/plain": [
       "<scipy.stats._distn_infrastructure.rv_frozen at 0x7ff912597160>"
      ]
     },
     "execution_count": 30,
     "metadata": {},
     "output_type": "execute_result"
    }
   ],
   "source": [
    "mean = 3\n",
    "stddev = .3\n",
    "\n",
    "grades_dist = stats.norm(mean,stddev)\n",
    "grades_dist\n"
   ]
  },
  {
   "cell_type": "code",
   "execution_count": 53,
   "id": "2c5f7ece",
   "metadata": {},
   "outputs": [
    {
     "data": {
      "text/plain": [
       "Text(0.5, 1.0, 'Normal Distribution of Grades')"
      ]
     },
     "execution_count": 53,
     "metadata": {},
     "output_type": "execute_result"
    },
    {
     "data": {
      "image/png": "[encoded data removed]",
      "text/plain": [
       "<Figure size 648x432 with 1 Axes>"
      ]
     },
     "metadata": {
      "needs_background": "light"
     },
     "output_type": "display_data"
    }
   ],
   "source": [
    "x = np.arange(0,5,.001)\n",
    "y = grades_dist.pdf(x)\n",
    "\n",
    "plt.plot(x,y)\n",
    "plt.xlabel('students')\n",
    "plt.ylabel('P(x)')\n",
    "plt.title('Normal Distribution of Grades')"
   ]
  },
  {
   "cell_type": "markdown",
   "id": "ac7b5bb5",
   "metadata": {},
   "source": [
    "### What grade point average is required to be in the top 5% of the graduating class?"
   ]
  },
  {
   "cell_type": "code",
   "execution_count": 41,
   "id": "969ad0ea",
   "metadata": {},
   "outputs": [
    {
     "data": {
      "text/plain": [
       "3.5252058213756507"
      ]
     },
     "execution_count": 41,
     "metadata": {},
     "output_type": "execute_result"
    }
   ],
   "source": [
    "grades_dist.isf(.04)"
   ]
  },
  {
   "cell_type": "markdown",
   "id": "f9b5904e",
   "metadata": {},
   "source": [
    "### What GPA constitutes the bottom 15% of the class?"
   ]
  },
  {
   "cell_type": "code",
   "execution_count": 42,
   "id": "170845ec",
   "metadata": {},
   "outputs": [
    {
     "data": {
      "text/plain": [
       "2.689069983151863"
      ]
     },
     "execution_count": 42,
     "metadata": {},
     "output_type": "execute_result"
    }
   ],
   "source": [
    "grades_dist.ppf(.15)"
   ]
  },
  {
   "cell_type": "markdown",
   "id": "98e889a6",
   "metadata": {},
   "source": [
    "### An eccentric alumnus left scholarship money for students in the third decile from the bottom of their class. Determine the range of the third decile. Would a student with a 2.8 grade point average qualify for this scholarship?"
   ]
  },
  {
   "cell_type": "code",
   "execution_count": 56,
   "id": "b9eadafe",
   "metadata": {},
   "outputs": [
    {
     "data": {
      "text/plain": [
       "2.9239958690592602"
      ]
     },
     "execution_count": 56,
     "metadata": {},
     "output_type": "execute_result"
    }
   ],
   "source": [
    "third_decile = (grades_dist.ppf(.4)) - (grades_dist.cdf(.3))\n",
    "third_decile\n",
    "# 2.8 would not qualify"
   ]
  },
  {
   "cell_type": "markdown",
   "id": "1317ca49",
   "metadata": {},
   "source": [
    "### If I have a GPA of 3.5, what percentile am I in?"
   ]
  },
  {
   "cell_type": "code",
   "execution_count": 60,
   "id": "6cf08fd2",
   "metadata": {},
   "outputs": [
    {
     "data": {
      "text/plain": [
       "0.9522096477271853"
      ]
     },
     "execution_count": 60,
     "metadata": {},
     "output_type": "execute_result"
    }
   ],
   "source": [
    "grades_dist.cdf(3.5)\n",
    "# 95th percentile"
   ]
  },
  {
   "cell_type": "markdown",
   "id": "2e5e0759",
   "metadata": {},
   "source": [
    "## 3. A marketing website has an average click-through rate of 2%. One day they observe 4326 visitors and 97 click-throughs. How likely is it that this many people or more click through?"
   ]
  },
  {
   "cell_type": "code",
   "execution_count": 66,
   "id": "d4e43ff1",
   "metadata": {},
   "outputs": [
    {
     "data": {
      "text/plain": [
       "86.52"
      ]
     },
     "execution_count": 66,
     "metadata": {},
     "output_type": "execute_result"
    }
   ],
   "source": [
    "avg_rate = .02\n",
    "n_visitors = 4326\n",
    "n_avg_clicks = avg_rate * n_visitors\n",
    "n_avg_clicks\n"
   ]
  },
  {
   "cell_type": "code",
   "execution_count": 67,
   "id": "68428aaa",
   "metadata": {},
   "outputs": [
    {
     "data": {
      "text/plain": [
       "0.11781530585907925"
      ]
     },
     "execution_count": 67,
     "metadata": {},
     "output_type": "execute_result"
    }
   ],
   "source": [
    "n_clicks = 97\n",
    "\n",
    "stats.binom(n_visitors, avg_rate).sf(n_clicks)"
   ]
  },
  {
   "cell_type": "markdown",
   "id": "b4f1439e",
   "metadata": {},
   "source": [
    "## 4. You are working on some statistics homework consisting of 100 questions where all of the answers are a probability rounded to the hundreths place. Looking to save time, you put down random probabilities as the answer to each question.\n",
    "### What is the probability that at least one of your first 60 answers is correct?"
   ]
  },
  {
   "cell_type": "code",
   "execution_count": 72,
   "id": "0216d5ef",
   "metadata": {},
   "outputs": [
    {
     "data": {
      "text/plain": [
       "0.4528433576092388"
      ]
     },
     "execution_count": 72,
     "metadata": {},
     "output_type": "execute_result"
    }
   ],
   "source": [
    "stats.binom(60,.01).sf(0)"
   ]
  },
  {
   "cell_type": "markdown",
   "id": "5faa331b",
   "metadata": {},
   "source": [
    "## 5. The codeup staff tends to get upset when the student break area is not cleaned up. Suppose that there's a 3% chance that any one student cleans the break area when they visit it, and, on any given day, about 90% of the 3 active cohorts of 22 students visit the break area.   "
   ]
  },
  {
   "cell_type": "code",
   "execution_count": 97,
   "id": "1a00aff3",
   "metadata": {
    "scrolled": true
   },
   "outputs": [],
   "source": [
    "p_cleaning = .03\n",
    "students = 66\n",
    "r_visits = .9\n",
    "students_visit = students * r_visits\n",
    "n_days = 5\n",
    "\n",
    "cleaning = stats.binom(n_days, p_cleaning)"
   ]
  },
  {
   "cell_type": "markdown",
   "id": "10df0cd9",
   "metadata": {},
   "source": [
    "### How likely is it that the break area gets cleaned up each day?"
   ]
  },
  {
   "cell_type": "code",
   "execution_count": 98,
   "id": "971e6600",
   "metadata": {},
   "outputs": [
    {
     "data": {
      "text/plain": [
       "0.1412659743000001"
      ]
     },
     "execution_count": 98,
     "metadata": {},
     "output_type": "execute_result"
    }
   ],
   "source": [
    "cleaning.sf(0)"
   ]
  },
  {
   "cell_type": "markdown",
   "id": "47df3fd2",
   "metadata": {},
   "source": [
    "### How likely is it that it goes two days without getting cleaned up?"
   ]
  },
  {
   "cell_type": "code",
   "execution_count": 101,
   "id": "f34fc70f",
   "metadata": {},
   "outputs": [
    {
     "data": {
      "text/plain": [
       "0.9999960472"
      ]
     },
     "execution_count": 101,
     "metadata": {},
     "output_type": "execute_result"
    }
   ],
   "source": [
    "n_days = 5\n",
    "1 - (cleaning.sf(3))"
   ]
  },
  {
   "cell_type": "markdown",
   "id": "d7f8861c",
   "metadata": {},
   "source": [
    "### [Not Cleaned] All week?"
   ]
  },
  {
   "cell_type": "code",
   "execution_count": 102,
   "id": "9d847f73",
   "metadata": {},
   "outputs": [
    {
     "data": {
      "text/plain": [
       "0.8587340256999999"
      ]
     },
     "execution_count": 102,
     "metadata": {},
     "output_type": "execute_result"
    }
   ],
   "source": [
    "n_day = 5\n",
    "1 - (cleaning.sf(0))"
   ]
  },
  {
   "cell_type": "markdown",
   "id": "5cb169fc",
   "metadata": {},
   "source": [
    "## 6. You want to get lunch at La Panaderia, but notice that the line is usually very long at lunchtime. After several weeks of careful observation, you notice that the average number of people in line when your lunch break starts is normally distributed with a mean of 15 and standard deviation of 3. If it takes 2 minutes for each person to order, and 10 minutes from ordering to getting your food, what is the likelihood that you have at least 15 minutes left to eat your food before you have to go back to class? Assume you have one hour for lunch, and ignore travel time to and from La Panaderia."
   ]
  },
  {
   "cell_type": "code",
   "execution_count": 108,
   "id": "a302f6a5",
   "metadata": {},
   "outputs": [],
   "source": [
    "get_food_mins = 2\n",
    "order_food_mins = 10\n",
    "eat_food_mins = 15\n",
    "lunch_break = 60\n",
    "\n",
    "\n",
    "μ = (15 * get_food_mins) + order_food_mins + eat_food_mins\n",
    "σ = (3 * get_food_mins) + order_food_mins + eat_food_mins\n",
    "\n",
    "lunch = stats.norm(μ, σ)"
   ]
  },
  {
   "cell_type": "code",
   "execution_count": 109,
   "id": "c37ef77a",
   "metadata": {},
   "outputs": [
    {
     "data": {
      "text/plain": [
       "0.5640676275336393"
      ]
     },
     "execution_count": 109,
     "metadata": {},
     "output_type": "execute_result"
    }
   ],
   "source": [
    "lunch.cdf(60)"
   ]
  },
  {
   "cell_type": "markdown",
   "id": "cde95b13",
   "metadata": {},
   "source": [
    "## 7. Connect to the employees database and find the average salary of current employees, along with the standard deviation. For the following questions, calculate the answer based on modeling the employees salaries with a normal distribution defined by the calculated mean and standard deviation then compare this answer to the actual values present in the salaries dataset."
   ]
  },
  {
   "cell_type": "markdown",
   "id": "af596bbf",
   "metadata": {},
   "source": [
    "### What percent of employees earn less than 60,000?"
   ]
  },
  {
   "cell_type": "code",
   "execution_count": null,
   "id": "88f300eb",
   "metadata": {},
   "outputs": [],
   "source": []
  },
  {
   "cell_type": "markdown",
   "id": "dbc660c6",
   "metadata": {},
   "source": [
    "### What percent of employees earn more than 95,000?"
   ]
  },
  {
   "cell_type": "code",
   "execution_count": null,
   "id": "a9b0c033",
   "metadata": {},
   "outputs": [],
   "source": []
  },
  {
   "cell_type": "markdown",
   "id": "74544892",
   "metadata": {},
   "source": [
    "### What percent of employees earn between 65,000 and 80,000?"
   ]
  },
  {
   "cell_type": "code",
   "execution_count": null,
   "id": "51d505eb",
   "metadata": {},
   "outputs": [],
   "source": []
  },
  {
   "cell_type": "markdown",
   "id": "447161c8",
   "metadata": {},
   "source": [
    "### What do the top 5% of employees make?"
   ]
  },
  {
   "cell_type": "code",
   "execution_count": null,
   "id": "3f670dc7",
   "metadata": {},
   "outputs": [],
   "source": []
  },
  {
   "cell_type": "markdown",
   "id": "968a1f61",
   "metadata": {},
   "source": [
    "### Hint If you're looking at this exercise and wondering \"How do I get pandas to talk the database, again?\", remember that you'll need 3 things: your .gitignore, your env.py, and to use pd.read_sql.\n",
    "\n",
    "### Be sure to run the following 2 commands from your terminal: \n",
    "1. cp ~/codeup-data-science/numpy-pandas-visualization-exercises/.gitignore ~/codeup-data-science/statistics-exercises to ensure that your stats repo has a known-good gitignore \n",
    "2. cp ~/codeup-data-science/numpy-pandas-exercises/env.py ~/codeup-data-science/statistics-exercises to ensure that pandas will have access to your db credentials."
   ]
  },
  {
   "cell_type": "code",
   "execution_count": null,
   "id": "153a12b4",
   "metadata": {},
   "outputs": [],
   "source": []
  }
 ],
 "metadata": {
  "kernelspec": {
   "display_name": "Python 3",
   "language": "python",
   "name": "python3"
  },
  "language_info": {
   "codemirror_mode": {
    "name": "ipython",
    "version": 3
   },
   "file_extension": ".py",
   "mimetype": "text/x-python",
   "name": "python",
   "nbconvert_exporter": "python",
   "pygments_lexer": "ipython3",
   "version": "3.8.8"
  }
 },
 "nbformat": 4,
 "nbformat_minor": 5
}
