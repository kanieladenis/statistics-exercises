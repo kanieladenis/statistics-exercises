{
 "cells": [
  {
   "cell_type": "code",
   "execution_count": 1,
   "id": "0980d66f",
   "metadata": {},
   "outputs": [],
   "source": [
    "import numpy as np\n",
    "import pandas as pd\n",
    "import viz\n",
    "np.random.seed(22)"
   ]
  },
  {
   "cell_type": "markdown",
   "id": "b595c5f6",
   "metadata": {},
   "source": [
    "## 1. How likely is it that you roll doubles when rolling two dice?"
   ]
  },
  {
   "cell_type": "code",
   "execution_count": 2,
   "id": "bc006d55",
   "metadata": {},
   "outputs": [
    {
     "data": {
      "text/plain": [
       "array([ True, False, False, ...,  True, False, False])"
      ]
     },
     "execution_count": 2,
     "metadata": {},
     "output_type": "execute_result"
    }
   ],
   "source": [
    "die1 = np.random.choice([1,2,3,4,5,6], 10000)\n",
    "die2 = np.random.choice([1,2,3,4,5,6], 10000)\n",
    "\n",
    "doubles = die1 == die2\n",
    "doubles"
   ]
  },
  {
   "cell_type": "code",
   "execution_count": 3,
   "id": "46864999",
   "metadata": {},
   "outputs": [
    {
     "data": {
      "text/plain": [
       "0.1682"
      ]
     },
     "execution_count": 3,
     "metadata": {},
     "output_type": "execute_result"
    }
   ],
   "source": [
    "doubles.mean()"
   ]
  },
  {
   "cell_type": "markdown",
   "id": "a14bad12",
   "metadata": {},
   "source": [
    "## 2. If you flip 8 coins, what is the probability of getting exactly 3 heads? What is the probability of getting more than 3 heads?"
   ]
  },
  {
   "cell_type": "markdown",
   "id": "0250d206",
   "metadata": {},
   "source": [
    "### 2A) Probability of getting 3 heads"
   ]
  },
  {
   "cell_type": "code",
   "execution_count": 76,
   "id": "0c6f998d",
   "metadata": {},
   "outputs": [
    {
     "data": {
      "text/plain": [
       "array([[1, 1, 0, ..., 0, 1, 1],\n",
       "       [1, 0, 0, ..., 1, 1, 0],\n",
       "       [0, 0, 0, ..., 1, 0, 0],\n",
       "       ...,\n",
       "       [1, 1, 0, ..., 1, 1, 1],\n",
       "       [0, 0, 1, ..., 0, 0, 1],\n",
       "       [0, 0, 1, ..., 0, 0, 0]])"
      ]
     },
     "execution_count": 76,
     "metadata": {},
     "output_type": "execute_result"
    }
   ],
   "source": [
    "n_trials = nrows = 10000\n",
    "n_dice = ncols = 8\n",
    "\n",
    "coins = np.random.choice([0,1],size=(nrows,ncols))\n",
    "coins"
   ]
  },
  {
   "cell_type": "code",
   "execution_count": 77,
   "id": "595d1453",
   "metadata": {},
   "outputs": [
    {
     "data": {
      "text/plain": [
       "array([4, 4, 3, ..., 6, 4, 2])"
      ]
     },
     "execution_count": 77,
     "metadata": {},
     "output_type": "execute_result"
    }
   ],
   "source": [
    "coins_sum = coins.sum(axis=1)\n",
    "coins_sum"
   ]
  },
  {
   "cell_type": "code",
   "execution_count": 6,
   "id": "fb50e3c5",
   "metadata": {},
   "outputs": [
    {
     "data": {
      "text/plain": [
       "0.2199"
      ]
     },
     "execution_count": 6,
     "metadata": {},
     "output_type": "execute_result"
    }
   ],
   "source": [
    "heads_3 = coins_sum == 3\n",
    "heads_3.mean()"
   ]
  },
  {
   "cell_type": "code",
   "execution_count": 7,
   "id": "a8cdca0d",
   "metadata": {},
   "outputs": [],
   "source": [
    "### 2B Probability of getting more than 3 heads"
   ]
  },
  {
   "cell_type": "code",
   "execution_count": 73,
   "id": "45093acf",
   "metadata": {},
   "outputs": [
    {
     "data": {
      "text/plain": [
       "0.6355"
      ]
     },
     "execution_count": 73,
     "metadata": {},
     "output_type": "execute_result"
    }
   ],
   "source": [
    "heads_3more = coins_sum > 3\n",
    "heads_3more.mean()"
   ]
  },
  {
   "cell_type": "markdown",
   "id": "56ff906f",
   "metadata": {},
   "source": [
    "## 3. There are approximitely 3 web development cohorts for every 1 data science cohort at Codeup. Assuming that Codeup randomly selects an alumni to put on a billboard, what are the odds that the two billboards I drive past both have data science students on them?"
   ]
  },
  {
   "cell_type": "code",
   "execution_count": 9,
   "id": "91e9b1c6",
   "metadata": {},
   "outputs": [
    {
     "data": {
      "text/plain": [
       "0.0625"
      ]
     },
     "execution_count": 9,
     "metadata": {},
     "output_type": "execute_result"
    }
   ],
   "source": [
    ".25 * .25"
   ]
  },
  {
   "cell_type": "code",
   "execution_count": 78,
   "id": "fc2aa5fa",
   "metadata": {},
   "outputs": [
    {
     "data": {
      "text/plain": [
       "0.4375"
      ]
     },
     "execution_count": 78,
     "metadata": {},
     "output_type": "execute_result"
    }
   ],
   "source": [
    "1 -(.75*.75)"
   ]
  },
  {
   "cell_type": "code",
   "execution_count": 10,
   "id": "f6fc99bd",
   "metadata": {},
   "outputs": [
    {
     "data": {
      "text/plain": [
       "array([['web3', 'ds', 'web1', 'web3'],\n",
       "       ['web2', 'web2', 'web1', 'web3'],\n",
       "       ['ds', 'web1', 'ds', 'web1'],\n",
       "       ...,\n",
       "       ['web2', 'ds', 'web1', 'web3'],\n",
       "       ['web1', 'ds', 'web1', 'web3'],\n",
       "       ['ds', 'web1', 'ds', 'ds']], dtype='<U4')"
      ]
     },
     "execution_count": 10,
     "metadata": {},
     "output_type": "execute_result"
    }
   ],
   "source": [
    "n_trials = nrows = 10000\n",
    "n_cohorts = ncols = 4\n",
    "\n",
    "billboards = np.random.choice(['ds','web1','web2','web3'], size=(n_trials, n_cohorts))\n",
    "billboards"
   ]
  },
  {
   "cell_type": "code",
   "execution_count": 11,
   "id": "139eb471",
   "metadata": {},
   "outputs": [
    {
     "data": {
      "text/html": [
       "<div>\n",
       "<style scoped>\n",
       "    .dataframe tbody tr th:only-of-type {\n",
       "        vertical-align: middle;\n",
       "    }\n",
       "\n",
       "    .dataframe tbody tr th {\n",
       "        vertical-align: top;\n",
       "    }\n",
       "\n",
       "    .dataframe thead th {\n",
       "        text-align: right;\n",
       "    }\n",
       "</style>\n",
       "<table border=\"1\" class=\"dataframe\">\n",
       "  <thead>\n",
       "    <tr style=\"text-align: right;\">\n",
       "      <th></th>\n",
       "      <th>opt1</th>\n",
       "      <th>opt2</th>\n",
       "      <th>opt3</th>\n",
       "      <th>opt4</th>\n",
       "    </tr>\n",
       "  </thead>\n",
       "  <tbody>\n",
       "    <tr>\n",
       "      <th>0</th>\n",
       "      <td>web3</td>\n",
       "      <td>ds</td>\n",
       "      <td>web1</td>\n",
       "      <td>web3</td>\n",
       "    </tr>\n",
       "    <tr>\n",
       "      <th>1</th>\n",
       "      <td>web2</td>\n",
       "      <td>web2</td>\n",
       "      <td>web1</td>\n",
       "      <td>web3</td>\n",
       "    </tr>\n",
       "    <tr>\n",
       "      <th>2</th>\n",
       "      <td>ds</td>\n",
       "      <td>web1</td>\n",
       "      <td>ds</td>\n",
       "      <td>web1</td>\n",
       "    </tr>\n",
       "    <tr>\n",
       "      <th>3</th>\n",
       "      <td>ds</td>\n",
       "      <td>web2</td>\n",
       "      <td>web1</td>\n",
       "      <td>web1</td>\n",
       "    </tr>\n",
       "    <tr>\n",
       "      <th>4</th>\n",
       "      <td>web3</td>\n",
       "      <td>web2</td>\n",
       "      <td>web1</td>\n",
       "      <td>web1</td>\n",
       "    </tr>\n",
       "  </tbody>\n",
       "</table>\n",
       "</div>"
      ],
      "text/plain": [
       "   opt1  opt2  opt3  opt4\n",
       "0  web3    ds  web1  web3\n",
       "1  web2  web2  web1  web3\n",
       "2    ds  web1    ds  web1\n",
       "3    ds  web2  web1  web1\n",
       "4  web3  web2  web1  web1"
      ]
     },
     "execution_count": 11,
     "metadata": {},
     "output_type": "execute_result"
    }
   ],
   "source": [
    "billboards = pd.DataFrame(billboards, columns=(['opt1','opt2','opt3','opt4']))\n",
    "billboards.head()"
   ]
  },
  {
   "cell_type": "code",
   "execution_count": 12,
   "id": "b7a546d1",
   "metadata": {},
   "outputs": [],
   "source": [
    "def count_ds(row):\n",
    "    return row.opt1.count(\"ds\") + row.opt2.count(\"ds\") + row.opt3.count(\"ds\") + row.opt4.count(\"ds\")"
   ]
  },
  {
   "cell_type": "code",
   "execution_count": 13,
   "id": "b581c8a5",
   "metadata": {},
   "outputs": [
    {
     "data": {
      "text/html": [
       "<div>\n",
       "<style scoped>\n",
       "    .dataframe tbody tr th:only-of-type {\n",
       "        vertical-align: middle;\n",
       "    }\n",
       "\n",
       "    .dataframe tbody tr th {\n",
       "        vertical-align: top;\n",
       "    }\n",
       "\n",
       "    .dataframe thead th {\n",
       "        text-align: right;\n",
       "    }\n",
       "</style>\n",
       "<table border=\"1\" class=\"dataframe\">\n",
       "  <thead>\n",
       "    <tr style=\"text-align: right;\">\n",
       "      <th></th>\n",
       "      <th>opt1</th>\n",
       "      <th>opt2</th>\n",
       "      <th>opt3</th>\n",
       "      <th>opt4</th>\n",
       "      <th>ds_count</th>\n",
       "    </tr>\n",
       "  </thead>\n",
       "  <tbody>\n",
       "    <tr>\n",
       "      <th>0</th>\n",
       "      <td>web3</td>\n",
       "      <td>ds</td>\n",
       "      <td>web1</td>\n",
       "      <td>web3</td>\n",
       "      <td>1</td>\n",
       "    </tr>\n",
       "    <tr>\n",
       "      <th>1</th>\n",
       "      <td>web2</td>\n",
       "      <td>web2</td>\n",
       "      <td>web1</td>\n",
       "      <td>web3</td>\n",
       "      <td>0</td>\n",
       "    </tr>\n",
       "    <tr>\n",
       "      <th>2</th>\n",
       "      <td>ds</td>\n",
       "      <td>web1</td>\n",
       "      <td>ds</td>\n",
       "      <td>web1</td>\n",
       "      <td>2</td>\n",
       "    </tr>\n",
       "    <tr>\n",
       "      <th>3</th>\n",
       "      <td>ds</td>\n",
       "      <td>web2</td>\n",
       "      <td>web1</td>\n",
       "      <td>web1</td>\n",
       "      <td>1</td>\n",
       "    </tr>\n",
       "    <tr>\n",
       "      <th>4</th>\n",
       "      <td>web3</td>\n",
       "      <td>web2</td>\n",
       "      <td>web1</td>\n",
       "      <td>web1</td>\n",
       "      <td>0</td>\n",
       "    </tr>\n",
       "  </tbody>\n",
       "</table>\n",
       "</div>"
      ],
      "text/plain": [
       "   opt1  opt2  opt3  opt4  ds_count\n",
       "0  web3    ds  web1  web3         1\n",
       "1  web2  web2  web1  web3         0\n",
       "2    ds  web1    ds  web1         2\n",
       "3    ds  web2  web1  web1         1\n",
       "4  web3  web2  web1  web1         0"
      ]
     },
     "execution_count": 13,
     "metadata": {},
     "output_type": "execute_result"
    }
   ],
   "source": [
    "billboards['ds_count'] = billboards.apply(count_ds, axis=1)\n",
    "billboards.head()"
   ]
  },
  {
   "cell_type": "code",
   "execution_count": 14,
   "id": "e4050390",
   "metadata": {},
   "outputs": [
    {
     "data": {
      "text/plain": [
       "0.2188"
      ]
     },
     "execution_count": 14,
     "metadata": {},
     "output_type": "execute_result"
    }
   ],
   "source": [
    "(billboards.ds_count == 2).mean()"
   ]
  },
  {
   "cell_type": "markdown",
   "id": "bb4bd0a9",
   "metadata": {},
   "source": [
    "## 4. Codeup students buy, on average, 3 poptart packages with a standard deviation of 1.5 a day from the snack vending machine. If on monday the machine is restocked with 17 poptart packages, how likely is it that I will be able to buy some poptarts on Friday afternoon? (Remember, if you have mean and standard deviation, use the np.random.normal)"
   ]
  },
  {
   "cell_type": "code",
   "execution_count": 15,
   "id": "2b797002",
   "metadata": {},
   "outputs": [
    {
     "data": {
      "text/plain": [
       "array([[ 2.66824583,  3.72299631,  4.18754245,  3.30580776,  2.04580797],\n",
       "       [-0.36615282,  2.05210768,  4.61678579,  3.84927155,  3.29239677],\n",
       "       [ 2.07909875,  0.33473529,  2.66742939,  2.03188987,  1.96100431],\n",
       "       ...,\n",
       "       [ 4.57564726,  3.65676126,  3.23878835,  2.71076551,  0.48011121],\n",
       "       [-0.18850146,  4.30358201,  1.70234654,  4.46191548,  4.15135184],\n",
       "       [ 4.08405768,  5.57620371,  6.14272467,  1.65225318,  3.26275068]])"
      ]
     },
     "execution_count": 15,
     "metadata": {},
     "output_type": "execute_result"
    }
   ],
   "source": [
    "#build normal distribution array for poptarts\n",
    "poptarts = np.random.normal(3,1.5, (10000, 5))\n",
    "poptarts"
   ]
  },
  {
   "cell_type": "code",
   "execution_count": 16,
   "id": "639289d6",
   "metadata": {},
   "outputs": [
    {
     "data": {
      "text/html": [
       "<div>\n",
       "<style scoped>\n",
       "    .dataframe tbody tr th:only-of-type {\n",
       "        vertical-align: middle;\n",
       "    }\n",
       "\n",
       "    .dataframe tbody tr th {\n",
       "        vertical-align: top;\n",
       "    }\n",
       "\n",
       "    .dataframe thead th {\n",
       "        text-align: right;\n",
       "    }\n",
       "</style>\n",
       "<table border=\"1\" class=\"dataframe\">\n",
       "  <thead>\n",
       "    <tr style=\"text-align: right;\">\n",
       "      <th></th>\n",
       "      <th>Monday</th>\n",
       "      <th>Tuesday</th>\n",
       "      <th>Wednesday</th>\n",
       "      <th>Thursday</th>\n",
       "      <th>Friday</th>\n",
       "    </tr>\n",
       "  </thead>\n",
       "  <tbody>\n",
       "    <tr>\n",
       "      <th>0</th>\n",
       "      <td>2.668246</td>\n",
       "      <td>3.722996</td>\n",
       "      <td>4.187542</td>\n",
       "      <td>3.305808</td>\n",
       "      <td>2.045808</td>\n",
       "    </tr>\n",
       "    <tr>\n",
       "      <th>1</th>\n",
       "      <td>-0.366153</td>\n",
       "      <td>2.052108</td>\n",
       "      <td>4.616786</td>\n",
       "      <td>3.849272</td>\n",
       "      <td>3.292397</td>\n",
       "    </tr>\n",
       "    <tr>\n",
       "      <th>2</th>\n",
       "      <td>2.079099</td>\n",
       "      <td>0.334735</td>\n",
       "      <td>2.667429</td>\n",
       "      <td>2.031890</td>\n",
       "      <td>1.961004</td>\n",
       "    </tr>\n",
       "    <tr>\n",
       "      <th>3</th>\n",
       "      <td>3.998727</td>\n",
       "      <td>0.997405</td>\n",
       "      <td>3.303948</td>\n",
       "      <td>2.640008</td>\n",
       "      <td>5.063706</td>\n",
       "    </tr>\n",
       "    <tr>\n",
       "      <th>4</th>\n",
       "      <td>2.964667</td>\n",
       "      <td>1.482641</td>\n",
       "      <td>3.337869</td>\n",
       "      <td>-0.153282</td>\n",
       "      <td>3.144717</td>\n",
       "    </tr>\n",
       "  </tbody>\n",
       "</table>\n",
       "</div>"
      ],
      "text/plain": [
       "     Monday   Tuesday  Wednesday  Thursday    Friday\n",
       "0  2.668246  3.722996   4.187542  3.305808  2.045808\n",
       "1 -0.366153  2.052108   4.616786  3.849272  3.292397\n",
       "2  2.079099  0.334735   2.667429  2.031890  1.961004\n",
       "3  3.998727  0.997405   3.303948  2.640008  5.063706\n",
       "4  2.964667  1.482641   3.337869 -0.153282  3.144717"
      ]
     },
     "execution_count": 16,
     "metadata": {},
     "output_type": "execute_result"
    }
   ],
   "source": [
    "#build dataframe\n",
    "poptarts = pd.DataFrame(poptarts, columns=['Monday','Tuesday','Wednesday','Thursday','Friday'])\n",
    "poptarts.head()"
   ]
  },
  {
   "cell_type": "code",
   "execution_count": 17,
   "id": "8e7454a6",
   "metadata": {},
   "outputs": [
    {
     "data": {
      "text/html": [
       "<div>\n",
       "<style scoped>\n",
       "    .dataframe tbody tr th:only-of-type {\n",
       "        vertical-align: middle;\n",
       "    }\n",
       "\n",
       "    .dataframe tbody tr th {\n",
       "        vertical-align: top;\n",
       "    }\n",
       "\n",
       "    .dataframe thead th {\n",
       "        text-align: right;\n",
       "    }\n",
       "</style>\n",
       "<table border=\"1\" class=\"dataframe\">\n",
       "  <thead>\n",
       "    <tr style=\"text-align: right;\">\n",
       "      <th></th>\n",
       "      <th>Monday</th>\n",
       "      <th>Tuesday</th>\n",
       "      <th>Wednesday</th>\n",
       "      <th>Thursday</th>\n",
       "      <th>Friday</th>\n",
       "      <th>week_sum</th>\n",
       "    </tr>\n",
       "  </thead>\n",
       "  <tbody>\n",
       "    <tr>\n",
       "      <th>0</th>\n",
       "      <td>2.668246</td>\n",
       "      <td>3.722996</td>\n",
       "      <td>4.187542</td>\n",
       "      <td>3.305808</td>\n",
       "      <td>2.045808</td>\n",
       "      <td>15.930400</td>\n",
       "    </tr>\n",
       "    <tr>\n",
       "      <th>1</th>\n",
       "      <td>-0.366153</td>\n",
       "      <td>2.052108</td>\n",
       "      <td>4.616786</td>\n",
       "      <td>3.849272</td>\n",
       "      <td>3.292397</td>\n",
       "      <td>13.444409</td>\n",
       "    </tr>\n",
       "    <tr>\n",
       "      <th>2</th>\n",
       "      <td>2.079099</td>\n",
       "      <td>0.334735</td>\n",
       "      <td>2.667429</td>\n",
       "      <td>2.031890</td>\n",
       "      <td>1.961004</td>\n",
       "      <td>9.074158</td>\n",
       "    </tr>\n",
       "    <tr>\n",
       "      <th>3</th>\n",
       "      <td>3.998727</td>\n",
       "      <td>0.997405</td>\n",
       "      <td>3.303948</td>\n",
       "      <td>2.640008</td>\n",
       "      <td>5.063706</td>\n",
       "      <td>16.003794</td>\n",
       "    </tr>\n",
       "    <tr>\n",
       "      <th>4</th>\n",
       "      <td>2.964667</td>\n",
       "      <td>1.482641</td>\n",
       "      <td>3.337869</td>\n",
       "      <td>-0.153282</td>\n",
       "      <td>3.144717</td>\n",
       "      <td>10.776612</td>\n",
       "    </tr>\n",
       "    <tr>\n",
       "      <th>...</th>\n",
       "      <td>...</td>\n",
       "      <td>...</td>\n",
       "      <td>...</td>\n",
       "      <td>...</td>\n",
       "      <td>...</td>\n",
       "      <td>...</td>\n",
       "    </tr>\n",
       "    <tr>\n",
       "      <th>9995</th>\n",
       "      <td>1.178039</td>\n",
       "      <td>0.896992</td>\n",
       "      <td>2.806042</td>\n",
       "      <td>2.700536</td>\n",
       "      <td>2.803766</td>\n",
       "      <td>10.385376</td>\n",
       "    </tr>\n",
       "    <tr>\n",
       "      <th>9996</th>\n",
       "      <td>2.155662</td>\n",
       "      <td>5.423620</td>\n",
       "      <td>0.367417</td>\n",
       "      <td>1.785323</td>\n",
       "      <td>2.527843</td>\n",
       "      <td>12.259864</td>\n",
       "    </tr>\n",
       "    <tr>\n",
       "      <th>9997</th>\n",
       "      <td>4.575647</td>\n",
       "      <td>3.656761</td>\n",
       "      <td>3.238788</td>\n",
       "      <td>2.710766</td>\n",
       "      <td>0.480111</td>\n",
       "      <td>14.662074</td>\n",
       "    </tr>\n",
       "    <tr>\n",
       "      <th>9998</th>\n",
       "      <td>-0.188501</td>\n",
       "      <td>4.303582</td>\n",
       "      <td>1.702347</td>\n",
       "      <td>4.461915</td>\n",
       "      <td>4.151352</td>\n",
       "      <td>14.430694</td>\n",
       "    </tr>\n",
       "    <tr>\n",
       "      <th>9999</th>\n",
       "      <td>4.084058</td>\n",
       "      <td>5.576204</td>\n",
       "      <td>6.142725</td>\n",
       "      <td>1.652253</td>\n",
       "      <td>3.262751</td>\n",
       "      <td>20.717990</td>\n",
       "    </tr>\n",
       "  </tbody>\n",
       "</table>\n",
       "<p>10000 rows × 6 columns</p>\n",
       "</div>"
      ],
      "text/plain": [
       "        Monday   Tuesday  Wednesday  Thursday    Friday   week_sum\n",
       "0     2.668246  3.722996   4.187542  3.305808  2.045808  15.930400\n",
       "1    -0.366153  2.052108   4.616786  3.849272  3.292397  13.444409\n",
       "2     2.079099  0.334735   2.667429  2.031890  1.961004   9.074158\n",
       "3     3.998727  0.997405   3.303948  2.640008  5.063706  16.003794\n",
       "4     2.964667  1.482641   3.337869 -0.153282  3.144717  10.776612\n",
       "...        ...       ...        ...       ...       ...        ...\n",
       "9995  1.178039  0.896992   2.806042  2.700536  2.803766  10.385376\n",
       "9996  2.155662  5.423620   0.367417  1.785323  2.527843  12.259864\n",
       "9997  4.575647  3.656761   3.238788  2.710766  0.480111  14.662074\n",
       "9998 -0.188501  4.303582   1.702347  4.461915  4.151352  14.430694\n",
       "9999  4.084058  5.576204   6.142725  1.652253  3.262751  20.717990\n",
       "\n",
       "[10000 rows x 6 columns]"
      ]
     },
     "execution_count": 17,
     "metadata": {},
     "output_type": "execute_result"
    }
   ],
   "source": [
    "# Add Column for sum of the week\n",
    "poptarts['week_sum'] = poptarts.sum(axis=1)\n",
    "poptarts"
   ]
  },
  {
   "cell_type": "code",
   "execution_count": 18,
   "id": "f27600db",
   "metadata": {},
   "outputs": [
    {
     "data": {
      "text/html": [
       "<div>\n",
       "<style scoped>\n",
       "    .dataframe tbody tr th:only-of-type {\n",
       "        vertical-align: middle;\n",
       "    }\n",
       "\n",
       "    .dataframe tbody tr th {\n",
       "        vertical-align: top;\n",
       "    }\n",
       "\n",
       "    .dataframe thead th {\n",
       "        text-align: right;\n",
       "    }\n",
       "</style>\n",
       "<table border=\"1\" class=\"dataframe\">\n",
       "  <thead>\n",
       "    <tr style=\"text-align: right;\">\n",
       "      <th></th>\n",
       "      <th>Monday</th>\n",
       "      <th>Tuesday</th>\n",
       "      <th>Wednesday</th>\n",
       "      <th>Thursday</th>\n",
       "      <th>Friday</th>\n",
       "      <th>week_sum</th>\n",
       "      <th>poptarts_left</th>\n",
       "    </tr>\n",
       "  </thead>\n",
       "  <tbody>\n",
       "    <tr>\n",
       "      <th>0</th>\n",
       "      <td>2.668246</td>\n",
       "      <td>3.722996</td>\n",
       "      <td>4.187542</td>\n",
       "      <td>3.305808</td>\n",
       "      <td>2.045808</td>\n",
       "      <td>15.930400</td>\n",
       "      <td>True</td>\n",
       "    </tr>\n",
       "    <tr>\n",
       "      <th>1</th>\n",
       "      <td>-0.366153</td>\n",
       "      <td>2.052108</td>\n",
       "      <td>4.616786</td>\n",
       "      <td>3.849272</td>\n",
       "      <td>3.292397</td>\n",
       "      <td>13.444409</td>\n",
       "      <td>True</td>\n",
       "    </tr>\n",
       "    <tr>\n",
       "      <th>2</th>\n",
       "      <td>2.079099</td>\n",
       "      <td>0.334735</td>\n",
       "      <td>2.667429</td>\n",
       "      <td>2.031890</td>\n",
       "      <td>1.961004</td>\n",
       "      <td>9.074158</td>\n",
       "      <td>True</td>\n",
       "    </tr>\n",
       "    <tr>\n",
       "      <th>3</th>\n",
       "      <td>3.998727</td>\n",
       "      <td>0.997405</td>\n",
       "      <td>3.303948</td>\n",
       "      <td>2.640008</td>\n",
       "      <td>5.063706</td>\n",
       "      <td>16.003794</td>\n",
       "      <td>True</td>\n",
       "    </tr>\n",
       "    <tr>\n",
       "      <th>4</th>\n",
       "      <td>2.964667</td>\n",
       "      <td>1.482641</td>\n",
       "      <td>3.337869</td>\n",
       "      <td>-0.153282</td>\n",
       "      <td>3.144717</td>\n",
       "      <td>10.776612</td>\n",
       "      <td>True</td>\n",
       "    </tr>\n",
       "    <tr>\n",
       "      <th>...</th>\n",
       "      <td>...</td>\n",
       "      <td>...</td>\n",
       "      <td>...</td>\n",
       "      <td>...</td>\n",
       "      <td>...</td>\n",
       "      <td>...</td>\n",
       "      <td>...</td>\n",
       "    </tr>\n",
       "    <tr>\n",
       "      <th>9995</th>\n",
       "      <td>1.178039</td>\n",
       "      <td>0.896992</td>\n",
       "      <td>2.806042</td>\n",
       "      <td>2.700536</td>\n",
       "      <td>2.803766</td>\n",
       "      <td>10.385376</td>\n",
       "      <td>True</td>\n",
       "    </tr>\n",
       "    <tr>\n",
       "      <th>9996</th>\n",
       "      <td>2.155662</td>\n",
       "      <td>5.423620</td>\n",
       "      <td>0.367417</td>\n",
       "      <td>1.785323</td>\n",
       "      <td>2.527843</td>\n",
       "      <td>12.259864</td>\n",
       "      <td>True</td>\n",
       "    </tr>\n",
       "    <tr>\n",
       "      <th>9997</th>\n",
       "      <td>4.575647</td>\n",
       "      <td>3.656761</td>\n",
       "      <td>3.238788</td>\n",
       "      <td>2.710766</td>\n",
       "      <td>0.480111</td>\n",
       "      <td>14.662074</td>\n",
       "      <td>True</td>\n",
       "    </tr>\n",
       "    <tr>\n",
       "      <th>9998</th>\n",
       "      <td>-0.188501</td>\n",
       "      <td>4.303582</td>\n",
       "      <td>1.702347</td>\n",
       "      <td>4.461915</td>\n",
       "      <td>4.151352</td>\n",
       "      <td>14.430694</td>\n",
       "      <td>True</td>\n",
       "    </tr>\n",
       "    <tr>\n",
       "      <th>9999</th>\n",
       "      <td>4.084058</td>\n",
       "      <td>5.576204</td>\n",
       "      <td>6.142725</td>\n",
       "      <td>1.652253</td>\n",
       "      <td>3.262751</td>\n",
       "      <td>20.717990</td>\n",
       "      <td>False</td>\n",
       "    </tr>\n",
       "  </tbody>\n",
       "</table>\n",
       "<p>10000 rows × 7 columns</p>\n",
       "</div>"
      ],
      "text/plain": [
       "        Monday   Tuesday  Wednesday  Thursday    Friday   week_sum  \\\n",
       "0     2.668246  3.722996   4.187542  3.305808  2.045808  15.930400   \n",
       "1    -0.366153  2.052108   4.616786  3.849272  3.292397  13.444409   \n",
       "2     2.079099  0.334735   2.667429  2.031890  1.961004   9.074158   \n",
       "3     3.998727  0.997405   3.303948  2.640008  5.063706  16.003794   \n",
       "4     2.964667  1.482641   3.337869 -0.153282  3.144717  10.776612   \n",
       "...        ...       ...        ...       ...       ...        ...   \n",
       "9995  1.178039  0.896992   2.806042  2.700536  2.803766  10.385376   \n",
       "9996  2.155662  5.423620   0.367417  1.785323  2.527843  12.259864   \n",
       "9997  4.575647  3.656761   3.238788  2.710766  0.480111  14.662074   \n",
       "9998 -0.188501  4.303582   1.702347  4.461915  4.151352  14.430694   \n",
       "9999  4.084058  5.576204   6.142725  1.652253  3.262751  20.717990   \n",
       "\n",
       "      poptarts_left  \n",
       "0              True  \n",
       "1              True  \n",
       "2              True  \n",
       "3              True  \n",
       "4              True  \n",
       "...             ...  \n",
       "9995           True  \n",
       "9996           True  \n",
       "9997           True  \n",
       "9998           True  \n",
       "9999          False  \n",
       "\n",
       "[10000 rows x 7 columns]"
      ]
     },
     "execution_count": 18,
     "metadata": {},
     "output_type": "execute_result"
    }
   ],
   "source": [
    "# Add Boolean Column for if there is poptart left on Friday\n",
    "poptarts['poptarts_left'] = poptarts.week_sum < 17\n",
    "poptarts"
   ]
  },
  {
   "cell_type": "code",
   "execution_count": 19,
   "id": "9081c60c",
   "metadata": {},
   "outputs": [
    {
     "data": {
      "text/plain": [
       "0.7277"
      ]
     },
     "execution_count": 19,
     "metadata": {},
     "output_type": "execute_result"
    }
   ],
   "source": [
    "# probability that there will be poptarts left on Friday\n",
    "poptarts.poptarts_left.mean()"
   ]
  },
  {
   "cell_type": "markdown",
   "id": "fbcc7e51",
   "metadata": {},
   "source": [
    "## 5. Compare Heights\n",
    "    * Men have an average height of 178 cm and standard deviation of 8cm.\n",
    "    * Women have a mean of 170, sd = 6cm.\n",
    "    * Since you have means and standard deviations, you can use np.random.normal to generate observations.\n",
    "    * If a man and woman are chosen at random, P(woman taller than man)?"
   ]
  },
  {
   "cell_type": "code",
   "execution_count": 20,
   "id": "5a191055",
   "metadata": {},
   "outputs": [
    {
     "data": {
      "text/plain": [
       "array([191.27461775, 175.5594152 , 181.37001654, ..., 166.92400752,\n",
       "       177.09279937, 177.510554  ])"
      ]
     },
     "execution_count": 20,
     "metadata": {},
     "output_type": "execute_result"
    }
   ],
   "source": [
    "male_height = np.random.normal(178,8,10000)\n",
    "male_height"
   ]
  },
  {
   "cell_type": "code",
   "execution_count": 21,
   "id": "e979300e",
   "metadata": {},
   "outputs": [
    {
     "data": {
      "text/plain": [
       "array([174.20020797, 169.2762629 , 161.43512083, ..., 173.49023316,\n",
       "       174.7976375 , 181.18542023])"
      ]
     },
     "execution_count": 21,
     "metadata": {},
     "output_type": "execute_result"
    }
   ],
   "source": [
    "female_height = np.random.normal(170,6,10000)\n",
    "female_height"
   ]
  },
  {
   "cell_type": "code",
   "execution_count": 22,
   "id": "850d5ddf",
   "metadata": {},
   "outputs": [
    {
     "data": {
      "text/html": [
       "<div>\n",
       "<style scoped>\n",
       "    .dataframe tbody tr th:only-of-type {\n",
       "        vertical-align: middle;\n",
       "    }\n",
       "\n",
       "    .dataframe tbody tr th {\n",
       "        vertical-align: top;\n",
       "    }\n",
       "\n",
       "    .dataframe thead th {\n",
       "        text-align: right;\n",
       "    }\n",
       "</style>\n",
       "<table border=\"1\" class=\"dataframe\">\n",
       "  <thead>\n",
       "    <tr style=\"text-align: right;\">\n",
       "      <th></th>\n",
       "      <th>male_height</th>\n",
       "      <th>female_height</th>\n",
       "    </tr>\n",
       "  </thead>\n",
       "  <tbody>\n",
       "    <tr>\n",
       "      <th>0</th>\n",
       "      <td>191.274618</td>\n",
       "      <td>174.200208</td>\n",
       "    </tr>\n",
       "    <tr>\n",
       "      <th>1</th>\n",
       "      <td>175.559415</td>\n",
       "      <td>169.276263</td>\n",
       "    </tr>\n",
       "    <tr>\n",
       "      <th>2</th>\n",
       "      <td>181.370017</td>\n",
       "      <td>161.435121</td>\n",
       "    </tr>\n",
       "    <tr>\n",
       "      <th>3</th>\n",
       "      <td>168.786891</td>\n",
       "      <td>177.906174</td>\n",
       "    </tr>\n",
       "    <tr>\n",
       "      <th>4</th>\n",
       "      <td>173.263551</td>\n",
       "      <td>173.251181</td>\n",
       "    </tr>\n",
       "    <tr>\n",
       "      <th>...</th>\n",
       "      <td>...</td>\n",
       "      <td>...</td>\n",
       "    </tr>\n",
       "    <tr>\n",
       "      <th>9995</th>\n",
       "      <td>180.437465</td>\n",
       "      <td>165.484846</td>\n",
       "    </tr>\n",
       "    <tr>\n",
       "      <th>9996</th>\n",
       "      <td>183.271695</td>\n",
       "      <td>171.474725</td>\n",
       "    </tr>\n",
       "    <tr>\n",
       "      <th>9997</th>\n",
       "      <td>166.924008</td>\n",
       "      <td>173.490233</td>\n",
       "    </tr>\n",
       "    <tr>\n",
       "      <th>9998</th>\n",
       "      <td>177.092799</td>\n",
       "      <td>174.797638</td>\n",
       "    </tr>\n",
       "    <tr>\n",
       "      <th>9999</th>\n",
       "      <td>177.510554</td>\n",
       "      <td>181.185420</td>\n",
       "    </tr>\n",
       "  </tbody>\n",
       "</table>\n",
       "<p>10000 rows × 2 columns</p>\n",
       "</div>"
      ],
      "text/plain": [
       "      male_height  female_height\n",
       "0      191.274618     174.200208\n",
       "1      175.559415     169.276263\n",
       "2      181.370017     161.435121\n",
       "3      168.786891     177.906174\n",
       "4      173.263551     173.251181\n",
       "...           ...            ...\n",
       "9995   180.437465     165.484846\n",
       "9996   183.271695     171.474725\n",
       "9997   166.924008     173.490233\n",
       "9998   177.092799     174.797638\n",
       "9999   177.510554     181.185420\n",
       "\n",
       "[10000 rows x 2 columns]"
      ]
     },
     "execution_count": 22,
     "metadata": {},
     "output_type": "execute_result"
    }
   ],
   "source": [
    "gender_heights = pd.DataFrame({'male_height':male_height,\n",
    "                               'female_height':female_height})\n",
    "gender_heights"
   ]
  },
  {
   "cell_type": "code",
   "execution_count": 23,
   "id": "01629397",
   "metadata": {},
   "outputs": [
    {
     "data": {
      "text/html": [
       "<div>\n",
       "<style scoped>\n",
       "    .dataframe tbody tr th:only-of-type {\n",
       "        vertical-align: middle;\n",
       "    }\n",
       "\n",
       "    .dataframe tbody tr th {\n",
       "        vertical-align: top;\n",
       "    }\n",
       "\n",
       "    .dataframe thead th {\n",
       "        text-align: right;\n",
       "    }\n",
       "</style>\n",
       "<table border=\"1\" class=\"dataframe\">\n",
       "  <thead>\n",
       "    <tr style=\"text-align: right;\">\n",
       "      <th></th>\n",
       "      <th>male_height</th>\n",
       "      <th>female_height</th>\n",
       "      <th>female_taller</th>\n",
       "    </tr>\n",
       "  </thead>\n",
       "  <tbody>\n",
       "    <tr>\n",
       "      <th>0</th>\n",
       "      <td>191.274618</td>\n",
       "      <td>174.200208</td>\n",
       "      <td>False</td>\n",
       "    </tr>\n",
       "    <tr>\n",
       "      <th>1</th>\n",
       "      <td>175.559415</td>\n",
       "      <td>169.276263</td>\n",
       "      <td>False</td>\n",
       "    </tr>\n",
       "    <tr>\n",
       "      <th>2</th>\n",
       "      <td>181.370017</td>\n",
       "      <td>161.435121</td>\n",
       "      <td>False</td>\n",
       "    </tr>\n",
       "    <tr>\n",
       "      <th>3</th>\n",
       "      <td>168.786891</td>\n",
       "      <td>177.906174</td>\n",
       "      <td>True</td>\n",
       "    </tr>\n",
       "    <tr>\n",
       "      <th>4</th>\n",
       "      <td>173.263551</td>\n",
       "      <td>173.251181</td>\n",
       "      <td>False</td>\n",
       "    </tr>\n",
       "    <tr>\n",
       "      <th>...</th>\n",
       "      <td>...</td>\n",
       "      <td>...</td>\n",
       "      <td>...</td>\n",
       "    </tr>\n",
       "    <tr>\n",
       "      <th>9995</th>\n",
       "      <td>180.437465</td>\n",
       "      <td>165.484846</td>\n",
       "      <td>False</td>\n",
       "    </tr>\n",
       "    <tr>\n",
       "      <th>9996</th>\n",
       "      <td>183.271695</td>\n",
       "      <td>171.474725</td>\n",
       "      <td>False</td>\n",
       "    </tr>\n",
       "    <tr>\n",
       "      <th>9997</th>\n",
       "      <td>166.924008</td>\n",
       "      <td>173.490233</td>\n",
       "      <td>True</td>\n",
       "    </tr>\n",
       "    <tr>\n",
       "      <th>9998</th>\n",
       "      <td>177.092799</td>\n",
       "      <td>174.797638</td>\n",
       "      <td>False</td>\n",
       "    </tr>\n",
       "    <tr>\n",
       "      <th>9999</th>\n",
       "      <td>177.510554</td>\n",
       "      <td>181.185420</td>\n",
       "      <td>True</td>\n",
       "    </tr>\n",
       "  </tbody>\n",
       "</table>\n",
       "<p>10000 rows × 3 columns</p>\n",
       "</div>"
      ],
      "text/plain": [
       "      male_height  female_height  female_taller\n",
       "0      191.274618     174.200208          False\n",
       "1      175.559415     169.276263          False\n",
       "2      181.370017     161.435121          False\n",
       "3      168.786891     177.906174           True\n",
       "4      173.263551     173.251181          False\n",
       "...           ...            ...            ...\n",
       "9995   180.437465     165.484846          False\n",
       "9996   183.271695     171.474725          False\n",
       "9997   166.924008     173.490233           True\n",
       "9998   177.092799     174.797638          False\n",
       "9999   177.510554     181.185420           True\n",
       "\n",
       "[10000 rows x 3 columns]"
      ]
     },
     "execution_count": 23,
     "metadata": {},
     "output_type": "execute_result"
    }
   ],
   "source": [
    "gender_heights['female_taller'] = female_height > male_height\n",
    "gender_heights"
   ]
  },
  {
   "cell_type": "code",
   "execution_count": 24,
   "id": "0b789d70",
   "metadata": {},
   "outputs": [
    {
     "data": {
      "text/plain": [
       "0.2175"
      ]
     },
     "execution_count": 24,
     "metadata": {},
     "output_type": "execute_result"
    }
   ],
   "source": [
    "gender_heights.female_taller.mean()"
   ]
  },
  {
   "cell_type": "markdown",
   "id": "bbe71da6",
   "metadata": {},
   "source": [
    "## 6. When installing anaconda on a student's computer, there's a 1 in 250 chance that the download is corrupted and the installation fails. What are the odds that after having 50 students download anaconda, no one has an installation issue? 100 students? ",
    "What is the probability that we observe an installation issue within the first 150 students that download anaconda? ",
    "How likely is it that 450 students all download anaconda without an issue?"
   ]
  },
  {
   "cell_type": "markdown",
   "id": "0c187324",
   "metadata": {},
   "source": [
    "### What are the odds that after having 50 students download anaconda, no one has an installation issue?"
   ]
  },
  {
   "cell_type": "code",
   "execution_count": 39,
   "id": "918e766b",
   "metadata": {
    "scrolled": true
   },
   "outputs": [
    {
     "data": {
      "text/html": [
       "<div>\n",
       "<style scoped>\n",
       "    .dataframe tbody tr th:only-of-type {\n",
       "        vertical-align: middle;\n",
       "    }\n",
       "\n",
       "    .dataframe tbody tr th {\n",
       "        vertical-align: top;\n",
       "    }\n",
       "\n",
       "    .dataframe thead th {\n",
       "        text-align: right;\n",
       "    }\n",
       "</style>\n",
       "<table border=\"1\" class=\"dataframe\">\n",
       "  <thead>\n",
       "    <tr style=\"text-align: right;\">\n",
       "      <th></th>\n",
       "      <th>0</th>\n",
       "      <th>1</th>\n",
       "      <th>2</th>\n",
       "      <th>3</th>\n",
       "      <th>4</th>\n",
       "      <th>5</th>\n",
       "      <th>6</th>\n",
       "      <th>7</th>\n",
       "      <th>8</th>\n",
       "      <th>9</th>\n",
       "      <th>...</th>\n",
       "      <th>40</th>\n",
       "      <th>41</th>\n",
       "      <th>42</th>\n",
       "      <th>43</th>\n",
       "      <th>44</th>\n",
       "      <th>45</th>\n",
       "      <th>46</th>\n",
       "      <th>47</th>\n",
       "      <th>48</th>\n",
       "      <th>49</th>\n",
       "    </tr>\n",
       "  </thead>\n",
       "  <tbody>\n",
       "    <tr>\n",
       "      <th>0</th>\n",
       "      <td>0</td>\n",
       "      <td>0</td>\n",
       "      <td>0</td>\n",
       "      <td>0</td>\n",
       "      <td>0</td>\n",
       "      <td>0</td>\n",
       "      <td>0</td>\n",
       "      <td>0</td>\n",
       "      <td>0</td>\n",
       "      <td>0</td>\n",
       "      <td>...</td>\n",
       "      <td>0</td>\n",
       "      <td>0</td>\n",
       "      <td>0</td>\n",
       "      <td>0</td>\n",
       "      <td>0</td>\n",
       "      <td>0</td>\n",
       "      <td>0</td>\n",
       "      <td>0</td>\n",
       "      <td>0</td>\n",
       "      <td>0</td>\n",
       "    </tr>\n",
       "    <tr>\n",
       "      <th>1</th>\n",
       "      <td>0</td>\n",
       "      <td>0</td>\n",
       "      <td>0</td>\n",
       "      <td>0</td>\n",
       "      <td>0</td>\n",
       "      <td>0</td>\n",
       "      <td>0</td>\n",
       "      <td>0</td>\n",
       "      <td>0</td>\n",
       "      <td>0</td>\n",
       "      <td>...</td>\n",
       "      <td>0</td>\n",
       "      <td>0</td>\n",
       "      <td>0</td>\n",
       "      <td>0</td>\n",
       "      <td>0</td>\n",
       "      <td>0</td>\n",
       "      <td>0</td>\n",
       "      <td>0</td>\n",
       "      <td>0</td>\n",
       "      <td>0</td>\n",
       "    </tr>\n",
       "    <tr>\n",
       "      <th>2</th>\n",
       "      <td>0</td>\n",
       "      <td>0</td>\n",
       "      <td>0</td>\n",
       "      <td>0</td>\n",
       "      <td>0</td>\n",
       "      <td>0</td>\n",
       "      <td>0</td>\n",
       "      <td>0</td>\n",
       "      <td>0</td>\n",
       "      <td>0</td>\n",
       "      <td>...</td>\n",
       "      <td>0</td>\n",
       "      <td>0</td>\n",
       "      <td>0</td>\n",
       "      <td>0</td>\n",
       "      <td>0</td>\n",
       "      <td>0</td>\n",
       "      <td>0</td>\n",
       "      <td>0</td>\n",
       "      <td>0</td>\n",
       "      <td>0</td>\n",
       "    </tr>\n",
       "    <tr>\n",
       "      <th>3</th>\n",
       "      <td>0</td>\n",
       "      <td>0</td>\n",
       "      <td>0</td>\n",
       "      <td>0</td>\n",
       "      <td>0</td>\n",
       "      <td>0</td>\n",
       "      <td>0</td>\n",
       "      <td>0</td>\n",
       "      <td>0</td>\n",
       "      <td>0</td>\n",
       "      <td>...</td>\n",
       "      <td>0</td>\n",
       "      <td>0</td>\n",
       "      <td>0</td>\n",
       "      <td>0</td>\n",
       "      <td>0</td>\n",
       "      <td>0</td>\n",
       "      <td>0</td>\n",
       "      <td>0</td>\n",
       "      <td>0</td>\n",
       "      <td>0</td>\n",
       "    </tr>\n",
       "    <tr>\n",
       "      <th>4</th>\n",
       "      <td>0</td>\n",
       "      <td>0</td>\n",
       "      <td>0</td>\n",
       "      <td>0</td>\n",
       "      <td>0</td>\n",
       "      <td>0</td>\n",
       "      <td>0</td>\n",
       "      <td>0</td>\n",
       "      <td>0</td>\n",
       "      <td>0</td>\n",
       "      <td>...</td>\n",
       "      <td>0</td>\n",
       "      <td>0</td>\n",
       "      <td>0</td>\n",
       "      <td>0</td>\n",
       "      <td>0</td>\n",
       "      <td>0</td>\n",
       "      <td>0</td>\n",
       "      <td>0</td>\n",
       "      <td>0</td>\n",
       "      <td>0</td>\n",
       "    </tr>\n",
       "  </tbody>\n",
       "</table>\n",
       "<p>5 rows × 50 columns</p>\n",
       "</div>"
      ],
      "text/plain": [
       "   0   1   2   3   4   5   6   7   8   9   ...  40  41  42  43  44  45  46  \\\n",
       "0   0   0   0   0   0   0   0   0   0   0  ...   0   0   0   0   0   0   0   \n",
       "1   0   0   0   0   0   0   0   0   0   0  ...   0   0   0   0   0   0   0   \n",
       "2   0   0   0   0   0   0   0   0   0   0  ...   0   0   0   0   0   0   0   \n",
       "3   0   0   0   0   0   0   0   0   0   0  ...   0   0   0   0   0   0   0   \n",
       "4   0   0   0   0   0   0   0   0   0   0  ...   0   0   0   0   0   0   0   \n",
       "\n",
       "   47  48  49  \n",
       "0   0   0   0  \n",
       "1   0   0   0  \n",
       "2   0   0   0  \n",
       "3   0   0   0  \n",
       "4   0   0   0  \n",
       "\n",
       "[5 rows x 50 columns]"
      ]
     },
     "execution_count": 39,
     "metadata": {},
     "output_type": "execute_result"
    }
   ],
   "source": [
    "# Setup fail array, \n",
    "p_fail = 1/250\n",
    "p_pass = 249/250\n",
    "n_computers = 50\n",
    "n_trials = 10_000\n",
    "\n",
    "computers = np.random.choice([0,1], p=[p_pass,p_fail], size=(n_trials,n_computers))\n",
    "computers = pd.DataFrame(computers)\n",
    "computers.head()\n"
   ]
  },
  {
   "cell_type": "code",
   "execution_count": 48,
   "id": "2e6212f1",
   "metadata": {},
   "outputs": [
    {
     "data": {
      "text/html": [
       "<div>\n",
       "<style scoped>\n",
       "    .dataframe tbody tr th:only-of-type {\n",
       "        vertical-align: middle;\n",
       "    }\n",
       "\n",
       "    .dataframe tbody tr th {\n",
       "        vertical-align: top;\n",
       "    }\n",
       "\n",
       "    .dataframe thead th {\n",
       "        text-align: right;\n",
       "    }\n",
       "</style>\n",
       "<table border=\"1\" class=\"dataframe\">\n",
       "  <thead>\n",
       "    <tr style=\"text-align: right;\">\n",
       "      <th></th>\n",
       "      <th>0</th>\n",
       "      <th>1</th>\n",
       "      <th>2</th>\n",
       "      <th>3</th>\n",
       "      <th>4</th>\n",
       "      <th>5</th>\n",
       "      <th>6</th>\n",
       "      <th>7</th>\n",
       "      <th>8</th>\n",
       "      <th>9</th>\n",
       "      <th>...</th>\n",
       "      <th>41</th>\n",
       "      <th>42</th>\n",
       "      <th>43</th>\n",
       "      <th>44</th>\n",
       "      <th>45</th>\n",
       "      <th>46</th>\n",
       "      <th>47</th>\n",
       "      <th>48</th>\n",
       "      <th>49</th>\n",
       "      <th>fail_sum</th>\n",
       "    </tr>\n",
       "  </thead>\n",
       "  <tbody>\n",
       "    <tr>\n",
       "      <th>0</th>\n",
       "      <td>0</td>\n",
       "      <td>0</td>\n",
       "      <td>0</td>\n",
       "      <td>0</td>\n",
       "      <td>0</td>\n",
       "      <td>0</td>\n",
       "      <td>0</td>\n",
       "      <td>0</td>\n",
       "      <td>0</td>\n",
       "      <td>0</td>\n",
       "      <td>...</td>\n",
       "      <td>0</td>\n",
       "      <td>0</td>\n",
       "      <td>0</td>\n",
       "      <td>0</td>\n",
       "      <td>0</td>\n",
       "      <td>0</td>\n",
       "      <td>0</td>\n",
       "      <td>0</td>\n",
       "      <td>0</td>\n",
       "      <td>0</td>\n",
       "    </tr>\n",
       "    <tr>\n",
       "      <th>1</th>\n",
       "      <td>0</td>\n",
       "      <td>0</td>\n",
       "      <td>0</td>\n",
       "      <td>0</td>\n",
       "      <td>0</td>\n",
       "      <td>0</td>\n",
       "      <td>0</td>\n",
       "      <td>0</td>\n",
       "      <td>0</td>\n",
       "      <td>0</td>\n",
       "      <td>...</td>\n",
       "      <td>0</td>\n",
       "      <td>0</td>\n",
       "      <td>0</td>\n",
       "      <td>0</td>\n",
       "      <td>0</td>\n",
       "      <td>0</td>\n",
       "      <td>0</td>\n",
       "      <td>0</td>\n",
       "      <td>0</td>\n",
       "      <td>0</td>\n",
       "    </tr>\n",
       "    <tr>\n",
       "      <th>2</th>\n",
       "      <td>0</td>\n",
       "      <td>0</td>\n",
       "      <td>0</td>\n",
       "      <td>0</td>\n",
       "      <td>0</td>\n",
       "      <td>0</td>\n",
       "      <td>0</td>\n",
       "      <td>0</td>\n",
       "      <td>0</td>\n",
       "      <td>0</td>\n",
       "      <td>...</td>\n",
       "      <td>0</td>\n",
       "      <td>0</td>\n",
       "      <td>0</td>\n",
       "      <td>0</td>\n",
       "      <td>0</td>\n",
       "      <td>0</td>\n",
       "      <td>0</td>\n",
       "      <td>0</td>\n",
       "      <td>0</td>\n",
       "      <td>0</td>\n",
       "    </tr>\n",
       "    <tr>\n",
       "      <th>3</th>\n",
       "      <td>0</td>\n",
       "      <td>0</td>\n",
       "      <td>0</td>\n",
       "      <td>0</td>\n",
       "      <td>0</td>\n",
       "      <td>0</td>\n",
       "      <td>0</td>\n",
       "      <td>0</td>\n",
       "      <td>0</td>\n",
       "      <td>0</td>\n",
       "      <td>...</td>\n",
       "      <td>0</td>\n",
       "      <td>0</td>\n",
       "      <td>0</td>\n",
       "      <td>0</td>\n",
       "      <td>0</td>\n",
       "      <td>0</td>\n",
       "      <td>0</td>\n",
       "      <td>0</td>\n",
       "      <td>0</td>\n",
       "      <td>0</td>\n",
       "    </tr>\n",
       "    <tr>\n",
       "      <th>4</th>\n",
       "      <td>0</td>\n",
       "      <td>0</td>\n",
       "      <td>0</td>\n",
       "      <td>0</td>\n",
       "      <td>0</td>\n",
       "      <td>0</td>\n",
       "      <td>0</td>\n",
       "      <td>0</td>\n",
       "      <td>0</td>\n",
       "      <td>0</td>\n",
       "      <td>...</td>\n",
       "      <td>0</td>\n",
       "      <td>0</td>\n",
       "      <td>0</td>\n",
       "      <td>0</td>\n",
       "      <td>0</td>\n",
       "      <td>0</td>\n",
       "      <td>0</td>\n",
       "      <td>0</td>\n",
       "      <td>0</td>\n",
       "      <td>0</td>\n",
       "    </tr>\n",
       "  </tbody>\n",
       "</table>\n",
       "<p>5 rows × 51 columns</p>\n",
       "</div>"
      ],
      "text/plain": [
       "   0  1  2  3  4  5  6  7  8  9  ...  41  42  43  44  45  46  47  48  49  \\\n",
       "0  0  0  0  0  0  0  0  0  0  0  ...   0   0   0   0   0   0   0   0   0   \n",
       "1  0  0  0  0  0  0  0  0  0  0  ...   0   0   0   0   0   0   0   0   0   \n",
       "2  0  0  0  0  0  0  0  0  0  0  ...   0   0   0   0   0   0   0   0   0   \n",
       "3  0  0  0  0  0  0  0  0  0  0  ...   0   0   0   0   0   0   0   0   0   \n",
       "4  0  0  0  0  0  0  0  0  0  0  ...   0   0   0   0   0   0   0   0   0   \n",
       "\n",
       "   fail_sum  \n",
       "0         0  \n",
       "1         0  \n",
       "2         0  \n",
       "3         0  \n",
       "4         0  \n",
       "\n",
       "[5 rows x 51 columns]"
      ]
     },
     "execution_count": 48,
     "metadata": {},
     "output_type": "execute_result"
    }
   ],
   "source": [
    "# Created sum of fails\n",
    "computers['fail_sum'] = computers.sum(axis=1)\n",
    "computers.head()"
   ]
  },
  {
   "cell_type": "code",
   "execution_count": 56,
   "id": "6a35bfb7",
   "metadata": {},
   "outputs": [
    {
     "data": {
      "text/plain": [
       "0.5403"
      ]
     },
     "execution_count": 56,
     "metadata": {},
     "output_type": "execute_result"
    }
   ],
   "source": [
    "# Probablity of of no fails\n",
    "p_comp_pass = (computers.fail_sum == 0).mean()\n",
    "p_comp_pass"
   ]
  },
  {
   "cell_type": "markdown",
   "id": "7eebe5fa",
   "metadata": {},
   "source": [
    "### Probability of No Fails (Pass) with 100 Students"
   ]
  },
  {
   "cell_type": "code",
   "execution_count": 57,
   "id": "d56c8fc8",
   "metadata": {},
   "outputs": [
    {
     "data": {
      "text/plain": [
       "0.6737"
      ]
     },
     "execution_count": 57,
     "metadata": {},
     "output_type": "execute_result"
    }
   ],
   "source": [
    "# updated computer to 100\n",
    "p_fail = 1/250\n",
    "p_pass = 249/250\n",
    "n_computers = 100\n",
    "n_trials = 10_000\n",
    "\n",
    "computers = np.random.choice([0,1], p=[p_pass,p_fail], size=(n_trials,n_computers))\n",
    "computers = pd.DataFrame(computers)\n",
    "computers['fail_sum'] = computers.sum(axis=1)\n",
    "p_comp_pass = (computers.fail_sum == 0).mean()\n",
    "p_comp_pass"
   ]
  },
  {
   "cell_type": "markdown",
   "id": "2480940d",
   "metadata": {},
   "source": [
    "### What is the probability that we observe an installation issue within the first 150 students that download anaconda? "
   ]
  },
  {
   "cell_type": "code",
   "execution_count": 58,
   "id": "ffd99925",
   "metadata": {},
   "outputs": [
    {
     "data": {
      "text/plain": [
       "0.5449"
      ]
     },
     "execution_count": 58,
     "metadata": {},
     "output_type": "execute_result"
    }
   ],
   "source": [
    "# updated computer to 150\n",
    "p_fail = 1/250\n",
    "p_pass = 249/250\n",
    "n_computers = 150\n",
    "n_trials = 10_000\n",
    "\n",
    "computers = np.random.choice([0,1], p=[p_pass,p_fail], size=(n_trials,n_computers))\n",
    "computers = pd.DataFrame(computers)\n",
    "computers['fail_sum'] = computers.sum(axis=1)\n",
    "p_comp_pass = (computers.fail_sum == 0).mean()\n",
    "p_comp_pass"
   ]
  },
  {
   "cell_type": "code",
   "execution_count": 59,
   "id": "68ecede7",
   "metadata": {},
   "outputs": [
    {
     "data": {
      "text/plain": [
       "0.45509999999999995"
      ]
     },
     "execution_count": 59,
     "metadata": {},
     "output_type": "execute_result"
    }
   ],
   "source": [
    "p_comp_fail  = 1 - p_comp_pass\n",
    "p_comp_fail"
   ]
  },
  {
   "cell_type": "markdown",
   "id": "020ace38",
   "metadata": {},
   "source": [
    "### How likely is it that 450 students all download anaconda without an issue?"
   ]
  },
  {
   "cell_type": "code",
   "execution_count": 70,
   "id": "4d95190c",
   "metadata": {},
   "outputs": [
    {
     "data": {
      "text/plain": [
       "0.1614"
      ]
     },
     "execution_count": 70,
     "metadata": {},
     "output_type": "execute_result"
    }
   ],
   "source": [
    "# updated computer to 450\n",
    "p_fail = 1/250\n",
    "p_pass = 249/250\n",
    "n_computers = 450\n",
    "n_trials = 10_000\n",
    "\n",
    "computers = np.random.choice([0,1], p=[p_pass,p_fail], size=(n_trials,n_computers))\n",
    "computers = pd.DataFrame(computers)\n",
    "computers['fail_sum'] = computers.sum(axis=1)\n",
    "p_comp_pass = (computers.fail_sum == 0).mean()\n",
    "p_comp_pass"
   ]
  },
  {
   "cell_type": "code",
   "execution_count": 71,
   "id": "9c938ad4",
   "metadata": {},
   "outputs": [
    {
     "data": {
      "text/plain": [
       "0.8386"
      ]
     },
     "execution_count": 71,
     "metadata": {},
     "output_type": "execute_result"
    }
   ],
   "source": [
    "p_comp_fail  = 1 - p_comp_pass\n",
    "p_comp_fail"
   ]
  },
  {
   "cell_type": "code",
   "execution_count": 68,
   "id": "8edb9b55",
   "metadata": {},
   "outputs": [
    {
     "data": {
      "text/plain": [
       "0.8352967038413871"
      ]
     },
     "execution_count": 68,
     "metadata": {},
     "output_type": "execute_result"
    }
   ],
   "source": [
    "1-((249/250)**450)"
   ]
  },
  {
   "cell_type": "markdown",
   "id": "2650cd24",
   "metadata": {},
   "source": [
    "## 7. There's a 70% chance on any given day that there will be at least one food truck at Travis Park. However, you haven't seen a food truck there in 3 days. How unlikely is this? ",
    "How likely is it that a food truck will show up sometime this week?"
   ]
  },
  {
   "cell_type": "code",
   "execution_count": null,
   "id": "e2675241",
   "metadata": {},
   "outputs": [],
   "source": []
  },
  {
   "cell_type": "markdown",
   "id": "d84f4a13",
   "metadata": {},
   "source": [
    "## 8. If 23 people are in the same room, what are the odds that two of them share a birthday? What if it's 20 people? 40?"
   ]
  },
  {
   "cell_type": "code",
   "execution_count": null,
   "id": "8bd8ff99",
   "metadata": {},
   "outputs": [],
   "source": []
  }
 ],
 "metadata": {
  "kernelspec": {
   "display_name": "Python 3",
   "language": "python",
   "name": "python3"
  },
  "language_info": {
   "codemirror_mode": {
    "name": "ipython",
    "version": 3
   },
   "file_extension": ".py",
   "mimetype": "text/x-python",
   "name": "python",
   "nbconvert_exporter": "python",
   "pygments_lexer": "ipython3",
   "version": "3.8.8"
  }
 },
 "nbformat": 4,
 "nbformat_minor": 5
}
