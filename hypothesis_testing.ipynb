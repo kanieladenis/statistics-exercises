{
 "cells": [
  {
   "cell_type": "markdown",
   "id": "b19792a3",
   "metadata": {},
   "source": [
    "## For each of the following questions, formulate a null and alternative hypothesis (be as specific as you can be), then give an example of what a true positive, true negative, type I and type II errors would look like. Note that some of the questions are intentionally phrased in a vague way. It is your job to reword these as more precise questions that could be tested.\n",
    "- Has the network latency gone up since we switched internet service providers?\n",
    "- Is the website redesign any good?\n",
    "- Is our television ad driving more sales?"
   ]
  },
  {
   "cell_type": "markdown",
   "id": "b9a01971",
   "metadata": {},
   "source": [
    "## 1) Has the network latency gone up since we switched internet service providers?\n",
    "### formulate a null and alternative hypothesis \n",
    "- There is not change in latency since switching internet providers\n",
    "- Latency has increasd since switching service providers\n",
    "### give an example of what a true positive, true negative, type I and type II errors would look like.\n",
    "- True Positive: Predicted latancy increased when it increased\n",
    "- True Negative: Predicted latancy decreased when it decreased\n",
    "- Type I Error(False Positive): Predicted latency increased when it decreased\n",
    "- Tyupe II Error (False Negative): Predicted latency decreased when it increased"
   ]
  },
  {
   "cell_type": "markdown",
   "id": "742b2a2c",
   "metadata": {},
   "source": [
    "## 2) Is the website redesign any good?\n",
    "### formulate a null and alternative hypothesis \n",
    "- Visits to the website has not changed since the redesign?\n",
    "- Visits increased in visits since the website redesign?\n",
    "### give an example of what a true positive, true negative, type I and type II errors would look like.\n",
    "- True Positive: Predicted Increase and increased\n",
    "- True Negative: Predicted No Increase and No Increase\n",
    "- Type I Error(False Positive): Predicted increase and didn't\n",
    "- Tyupe II Error (False Negative): Predicted no increase and did"
   ]
  },
  {
   "cell_type": "markdown",
   "id": "26302557",
   "metadata": {},
   "source": [
    "## 3) Is our television ad driving more sales?\n",
    "### formulate a null and alternative hypothesis \n",
    "- Sales has not changed since TV ad published\n",
    "- Sales increased since TV ad published\n",
    "## give an example of what a true positive, true negative, type I and type II errors would look like.\n",
    "- True Positive: Predicted visits increase and did\n",
    "- True Negative: Predicted no increase invisits and didn't\n",
    "- Type I Error(False Positive): Predicted increase and didn't\n",
    "- Tyupe II Error (False Negative): Predicted decrease and didn't"
   ]
  },
  {
   "cell_type": "markdown",
   "id": "4f68afff",
   "metadata": {},
   "source": [
    "## Exercises T-Testing\n",
    "\n",
    "### Ace Realty wants to determine whether the average time it takes to sell homes is different for its two offices. A sample of 40 sales from office #1 revealed a mean of 90 days and a standard deviation of 15 days. A sample of 50 sales from office #2 revealed a mean of 100 days and a standard deviation of 20 days. Use a .05 level of significance.\n",
    "\n",
    "\n",
    "**Hypothesis**\n",
    "\n",
    "$H_{0}$: Average time to sell homes is NOT DIFFERENT between Office1 and Office2\n",
    "\n",
    "$H_{0}$: Average time to sell homes is DIFFERENT between Office1 and Office2\n",
    "\n",
    "**Significance Levels**\n",
    "\n",
    "$\\alpha$ = .05 \n",
    "\n",
    "**Verify Assumpiton**\n",
    "\n",
    "- Normal:\n",
    "- Independdent:\n",
    "- Variance:\n",
    "\n",
    "Test Type:\n",
    "2 Sample (ind), 2 Tail"
   ]
  },
  {
   "cell_type": "code",
   "execution_count": 2,
   "id": "e5999a72",
   "metadata": {},
   "outputs": [],
   "source": [
    "import numpy as np\n",
    "import seaborn as sns\n",
    "import scipy.stats as stats\n",
    "import pandas as pd\n",
    "import matplotlib.pyplot as plt"
   ]
  },
  {
   "cell_type": "code",
   "execution_count": 4,
   "id": "d3054f88",
   "metadata": {},
   "outputs": [],
   "source": [
    "# set alpha\n",
    "α = .05"
   ]
  },
  {
   "cell_type": "code",
   "execution_count": 49,
   "id": "76ead58b",
   "metadata": {},
   "outputs": [
    {
     "data": {
      "text/plain": [
       "(-2.7091418459143854, 0.00811206270346016, 0.05)"
      ]
     },
     "execution_count": 49,
     "metadata": {},
     "output_type": "execute_result"
    }
   ],
   "source": [
    "t, p = stats.ttest_ind_from_stats(90, 15, 40, 100, 20, 50, equal_var=False)\n",
    "t, p, α"
   ]
  },
  {
   "cell_type": "markdown",
   "id": "5aa2e9e7",
   "metadata": {},
   "source": [
    "### p < alpha = reject H0"
   ]
  },
  {
   "cell_type": "markdown",
   "id": "6bbb6f66",
   "metadata": {},
   "source": [
    "## Load the mpg dataset and use it to answer the following questions:\n",
    "\n",
    "- Is there a difference in fuel-efficiency in cars from 2008 vs 1999?\n",
    "- Are compact cars more fuel-efficient than the average car?\n",
    "- Do manual cars get better gas mileage than automatic cars?"
   ]
  },
  {
   "cell_type": "code",
   "execution_count": 39,
   "id": "943d2b29",
   "metadata": {},
   "outputs": [],
   "source": [
    "from pydataset import data\n",
    "mpg = data('mpg')"
   ]
  },
  {
   "cell_type": "code",
   "execution_count": 40,
   "id": "c7149e71",
   "metadata": {},
   "outputs": [
    {
     "data": {
      "text/html": [
       "<div>\n",
       "<style scoped>\n",
       "    .dataframe tbody tr th:only-of-type {\n",
       "        vertical-align: middle;\n",
       "    }\n",
       "\n",
       "    .dataframe tbody tr th {\n",
       "        vertical-align: top;\n",
       "    }\n",
       "\n",
       "    .dataframe thead th {\n",
       "        text-align: right;\n",
       "    }\n",
       "</style>\n",
       "<table border=\"1\" class=\"dataframe\">\n",
       "  <thead>\n",
       "    <tr style=\"text-align: right;\">\n",
       "      <th></th>\n",
       "      <th>manufacturer</th>\n",
       "      <th>model</th>\n",
       "      <th>displ</th>\n",
       "      <th>year</th>\n",
       "      <th>cyl</th>\n",
       "      <th>trans</th>\n",
       "      <th>drv</th>\n",
       "      <th>cty</th>\n",
       "      <th>hwy</th>\n",
       "      <th>fl</th>\n",
       "      <th>class</th>\n",
       "    </tr>\n",
       "  </thead>\n",
       "  <tbody>\n",
       "    <tr>\n",
       "      <th>1</th>\n",
       "      <td>audi</td>\n",
       "      <td>a4</td>\n",
       "      <td>1.8</td>\n",
       "      <td>1999</td>\n",
       "      <td>4</td>\n",
       "      <td>auto(l5)</td>\n",
       "      <td>f</td>\n",
       "      <td>18</td>\n",
       "      <td>29</td>\n",
       "      <td>p</td>\n",
       "      <td>compact</td>\n",
       "    </tr>\n",
       "    <tr>\n",
       "      <th>2</th>\n",
       "      <td>audi</td>\n",
       "      <td>a4</td>\n",
       "      <td>1.8</td>\n",
       "      <td>1999</td>\n",
       "      <td>4</td>\n",
       "      <td>manual(m5)</td>\n",
       "      <td>f</td>\n",
       "      <td>21</td>\n",
       "      <td>29</td>\n",
       "      <td>p</td>\n",
       "      <td>compact</td>\n",
       "    </tr>\n",
       "    <tr>\n",
       "      <th>3</th>\n",
       "      <td>audi</td>\n",
       "      <td>a4</td>\n",
       "      <td>2.0</td>\n",
       "      <td>2008</td>\n",
       "      <td>4</td>\n",
       "      <td>manual(m6)</td>\n",
       "      <td>f</td>\n",
       "      <td>20</td>\n",
       "      <td>31</td>\n",
       "      <td>p</td>\n",
       "      <td>compact</td>\n",
       "    </tr>\n",
       "    <tr>\n",
       "      <th>4</th>\n",
       "      <td>audi</td>\n",
       "      <td>a4</td>\n",
       "      <td>2.0</td>\n",
       "      <td>2008</td>\n",
       "      <td>4</td>\n",
       "      <td>auto(av)</td>\n",
       "      <td>f</td>\n",
       "      <td>21</td>\n",
       "      <td>30</td>\n",
       "      <td>p</td>\n",
       "      <td>compact</td>\n",
       "    </tr>\n",
       "    <tr>\n",
       "      <th>5</th>\n",
       "      <td>audi</td>\n",
       "      <td>a4</td>\n",
       "      <td>2.8</td>\n",
       "      <td>1999</td>\n",
       "      <td>6</td>\n",
       "      <td>auto(l5)</td>\n",
       "      <td>f</td>\n",
       "      <td>16</td>\n",
       "      <td>26</td>\n",
       "      <td>p</td>\n",
       "      <td>compact</td>\n",
       "    </tr>\n",
       "  </tbody>\n",
       "</table>\n",
       "</div>"
      ],
      "text/plain": [
       "  manufacturer model  displ  year  cyl       trans drv  cty  hwy fl    class\n",
       "1         audi    a4    1.8  1999    4    auto(l5)   f   18   29  p  compact\n",
       "2         audi    a4    1.8  1999    4  manual(m5)   f   21   29  p  compact\n",
       "3         audi    a4    2.0  2008    4  manual(m6)   f   20   31  p  compact\n",
       "4         audi    a4    2.0  2008    4    auto(av)   f   21   30  p  compact\n",
       "5         audi    a4    2.8  1999    6    auto(l5)   f   16   26  p  compact"
      ]
     },
     "execution_count": 40,
     "metadata": {},
     "output_type": "execute_result"
    }
   ],
   "source": [
    "mpg.head()"
   ]
  },
  {
   "cell_type": "code",
   "execution_count": 41,
   "id": "3c0f059f",
   "metadata": {},
   "outputs": [
    {
     "name": "stdout",
     "output_type": "stream",
     "text": [
      "<class 'pandas.core.frame.DataFrame'>\n",
      "Int64Index: 234 entries, 1 to 234\n",
      "Data columns (total 11 columns):\n",
      " #   Column        Non-Null Count  Dtype  \n",
      "---  ------        --------------  -----  \n",
      " 0   manufacturer  234 non-null    object \n",
      " 1   model         234 non-null    object \n",
      " 2   displ         234 non-null    float64\n",
      " 3   year          234 non-null    int64  \n",
      " 4   cyl           234 non-null    int64  \n",
      " 5   trans         234 non-null    object \n",
      " 6   drv           234 non-null    object \n",
      " 7   cty           234 non-null    int64  \n",
      " 8   hwy           234 non-null    int64  \n",
      " 9   fl            234 non-null    object \n",
      " 10  class         234 non-null    object \n",
      "dtypes: float64(1), int64(4), object(6)\n",
      "memory usage: 21.9+ KB\n"
     ]
    }
   ],
   "source": [
    "mpg.info()"
   ]
  },
  {
   "cell_type": "markdown",
   "id": "293501e8",
   "metadata": {},
   "source": [
    "### - Is there a difference in fuel-efficiency in cars from 2008 vs 1999?\n",
    "- H0: Fuel-efficiency has NO DIFFERENCE between 2008 and 1999\n",
    "- H1: Fuel-efficiency has DIFFERNCE bettween 2008 and 1999"
   ]
  },
  {
   "cell_type": "code",
   "execution_count": 48,
   "id": "807b2e49",
   "metadata": {},
   "outputs": [
    {
     "data": {
      "text/html": [
       "<div>\n",
       "<style scoped>\n",
       "    .dataframe tbody tr th:only-of-type {\n",
       "        vertical-align: middle;\n",
       "    }\n",
       "\n",
       "    .dataframe tbody tr th {\n",
       "        vertical-align: top;\n",
       "    }\n",
       "\n",
       "    .dataframe thead th {\n",
       "        text-align: right;\n",
       "    }\n",
       "</style>\n",
       "<table border=\"1\" class=\"dataframe\">\n",
       "  <thead>\n",
       "    <tr style=\"text-align: right;\">\n",
       "      <th></th>\n",
       "      <th>manufacturer</th>\n",
       "      <th>model</th>\n",
       "      <th>displ</th>\n",
       "      <th>year</th>\n",
       "      <th>cyl</th>\n",
       "      <th>trans</th>\n",
       "      <th>drv</th>\n",
       "      <th>cty</th>\n",
       "      <th>hwy</th>\n",
       "      <th>fl</th>\n",
       "      <th>class</th>\n",
       "      <th>fuel_efficiency</th>\n",
       "    </tr>\n",
       "  </thead>\n",
       "  <tbody>\n",
       "    <tr>\n",
       "      <th>1</th>\n",
       "      <td>audi</td>\n",
       "      <td>a4</td>\n",
       "      <td>1.8</td>\n",
       "      <td>1999</td>\n",
       "      <td>4</td>\n",
       "      <td>auto(l5)</td>\n",
       "      <td>f</td>\n",
       "      <td>18</td>\n",
       "      <td>29</td>\n",
       "      <td>p</td>\n",
       "      <td>compact</td>\n",
       "      <td>23.5</td>\n",
       "    </tr>\n",
       "    <tr>\n",
       "      <th>2</th>\n",
       "      <td>audi</td>\n",
       "      <td>a4</td>\n",
       "      <td>1.8</td>\n",
       "      <td>1999</td>\n",
       "      <td>4</td>\n",
       "      <td>manual(m5)</td>\n",
       "      <td>f</td>\n",
       "      <td>21</td>\n",
       "      <td>29</td>\n",
       "      <td>p</td>\n",
       "      <td>compact</td>\n",
       "      <td>25.0</td>\n",
       "    </tr>\n",
       "    <tr>\n",
       "      <th>3</th>\n",
       "      <td>audi</td>\n",
       "      <td>a4</td>\n",
       "      <td>2.0</td>\n",
       "      <td>2008</td>\n",
       "      <td>4</td>\n",
       "      <td>manual(m6)</td>\n",
       "      <td>f</td>\n",
       "      <td>20</td>\n",
       "      <td>31</td>\n",
       "      <td>p</td>\n",
       "      <td>compact</td>\n",
       "      <td>25.5</td>\n",
       "    </tr>\n",
       "    <tr>\n",
       "      <th>4</th>\n",
       "      <td>audi</td>\n",
       "      <td>a4</td>\n",
       "      <td>2.0</td>\n",
       "      <td>2008</td>\n",
       "      <td>4</td>\n",
       "      <td>auto(av)</td>\n",
       "      <td>f</td>\n",
       "      <td>21</td>\n",
       "      <td>30</td>\n",
       "      <td>p</td>\n",
       "      <td>compact</td>\n",
       "      <td>25.5</td>\n",
       "    </tr>\n",
       "    <tr>\n",
       "      <th>5</th>\n",
       "      <td>audi</td>\n",
       "      <td>a4</td>\n",
       "      <td>2.8</td>\n",
       "      <td>1999</td>\n",
       "      <td>6</td>\n",
       "      <td>auto(l5)</td>\n",
       "      <td>f</td>\n",
       "      <td>16</td>\n",
       "      <td>26</td>\n",
       "      <td>p</td>\n",
       "      <td>compact</td>\n",
       "      <td>21.0</td>\n",
       "    </tr>\n",
       "  </tbody>\n",
       "</table>\n",
       "</div>"
      ],
      "text/plain": [
       "  manufacturer model  displ  year  cyl       trans drv  cty  hwy fl    class  \\\n",
       "1         audi    a4    1.8  1999    4    auto(l5)   f   18   29  p  compact   \n",
       "2         audi    a4    1.8  1999    4  manual(m5)   f   21   29  p  compact   \n",
       "3         audi    a4    2.0  2008    4  manual(m6)   f   20   31  p  compact   \n",
       "4         audi    a4    2.0  2008    4    auto(av)   f   21   30  p  compact   \n",
       "5         audi    a4    2.8  1999    6    auto(l5)   f   16   26  p  compact   \n",
       "\n",
       "   fuel_efficiency  \n",
       "1             23.5  \n",
       "2             25.0  \n",
       "3             25.5  \n",
       "4             25.5  \n",
       "5             21.0  "
      ]
     },
     "execution_count": 48,
     "metadata": {},
     "output_type": "execute_result"
    }
   ],
   "source": [
    "mpg['fuel_efficiency'] = (mpg.cty + mpg.hwy)/2\n",
    "mpg.head()"
   ]
  },
  {
   "cell_type": "code",
   "execution_count": 43,
   "id": "e92f0d30",
   "metadata": {},
   "outputs": [
    {
     "data": {
      "text/plain": [
       "array([1999, 2008])"
      ]
     },
     "execution_count": 43,
     "metadata": {},
     "output_type": "execute_result"
    }
   ],
   "source": [
    "mpg.year.unique()"
   ]
  },
  {
   "cell_type": "code",
   "execution_count": 45,
   "id": "cd1d75a2",
   "metadata": {},
   "outputs": [
    {
     "data": {
      "text/plain": [
       "3     43.0\n",
       "4     44.0\n",
       "7     41.0\n",
       "10    43.0\n",
       "11    42.0\n",
       "Name: fuel_efficiency, dtype: float64"
      ]
     },
     "execution_count": 45,
     "metadata": {},
     "output_type": "execute_result"
    }
   ],
   "source": [
    "cars_2008 = mpg[mpg.year == 2008].fuel_efficiency\n",
    "cars_2008.head()"
   ]
  },
  {
   "cell_type": "code",
   "execution_count": 46,
   "id": "f3fc6a11",
   "metadata": {},
   "outputs": [
    {
     "data": {
      "text/plain": [
       "1    41.0\n",
       "2    44.0\n",
       "5    39.0\n",
       "6    41.0\n",
       "8    41.0\n",
       "Name: fuel_efficiency, dtype: float64"
      ]
     },
     "execution_count": 46,
     "metadata": {},
     "output_type": "execute_result"
    }
   ],
   "source": [
    "cars_1999 = mpg[mpg.year == 1999].fuel_efficiency\n",
    "cars_1999.head()"
   ]
  },
  {
   "cell_type": "code",
   "execution_count": 50,
   "id": "5732a221",
   "metadata": {},
   "outputs": [
    {
     "data": {
      "text/plain": [
       "False"
      ]
     },
     "execution_count": 50,
     "metadata": {},
     "output_type": "execute_result"
    }
   ],
   "source": [
    "cars_1999.var() == cars_2008.var()"
   ]
  },
  {
   "cell_type": "markdown",
   "id": "eb170e82",
   "metadata": {},
   "source": [
    "alpha = .05\n",
    "normal: Yes\n",
    "independent: Yes\n",
    "variance: False"
   ]
  },
  {
   "cell_type": "code",
   "execution_count": 55,
   "id": "ede132ce",
   "metadata": {},
   "outputs": [
    {
     "data": {
      "text/plain": [
       "(-0.5674988409997671, 0.5709289258613188, 0.05)"
      ]
     },
     "execution_count": 55,
     "metadata": {},
     "output_type": "execute_result"
    }
   ],
   "source": [
    "alpha = .05\n",
    "t, p = stats.ttest_ind(cars_2008, cars_1999, equal_var=False)\n",
    "t, p, alpha"
   ]
  },
  {
   "cell_type": "markdown",
   "id": "bbe51dd4",
   "metadata": {},
   "source": [
    "### 2 sample, 2 tail Test: \n",
    "### p > alpha = Fail Reject of H0"
   ]
  },
  {
   "cell_type": "markdown",
   "id": "c64c28c8",
   "metadata": {},
   "source": [
    "## Are compact cars more fuel-efficient than the average car?\n",
    "### H0: Compact car fuel-efficiency <= Average Car\n",
    "### H1: Compact car fuel-efficiency > Average Car\n",
    "#### Test: 1 Sample, 1 Tail"
   ]
  },
  {
   "cell_type": "code",
   "execution_count": 58,
   "id": "ee2d95cd",
   "metadata": {},
   "outputs": [
    {
     "data": {
      "text/plain": [
       "array(['compact', 'midsize', 'suv', '2seater', 'minivan', 'pickup',\n",
       "       'subcompact'], dtype=object)"
      ]
     },
     "execution_count": 58,
     "metadata": {},
     "output_type": "execute_result"
    }
   ],
   "source": [
    "mpg['class'].unique()"
   ]
  },
  {
   "cell_type": "code",
   "execution_count": 61,
   "id": "44993bd7",
   "metadata": {},
   "outputs": [
    {
     "data": {
      "text/plain": [
       "20.14957264957265"
      ]
     },
     "execution_count": 61,
     "metadata": {},
     "output_type": "execute_result"
    }
   ],
   "source": [
    "# find mean of all cars\n",
    "avg_car_fuel_efficiency = mpg.fuel_efficiency.mean()\n",
    "avg_car_fuel_efficiency"
   ]
  },
  {
   "cell_type": "code",
   "execution_count": 69,
   "id": "0d1879ae",
   "metadata": {},
   "outputs": [
    {
     "data": {
      "text/plain": [
       "1    23.5\n",
       "2    25.0\n",
       "3    25.5\n",
       "4    25.5\n",
       "5    21.0\n",
       "Name: fuel_efficiency, dtype: float64"
      ]
     },
     "execution_count": 69,
     "metadata": {},
     "output_type": "execute_result"
    }
   ],
   "source": [
    "# build Series for compact car fuel efficiency\n",
    "compact_car = mpg[mpg['class'] == 'compact'].fuel_efficiency\n",
    "compact_car.head()"
   ]
  },
  {
   "cell_type": "code",
   "execution_count": 70,
   "id": "dfaaf5e2",
   "metadata": {},
   "outputs": [],
   "source": [
    "alpha = .05"
   ]
  },
  {
   "cell_type": "code",
   "execution_count": 88,
   "id": "beb83991",
   "metadata": {},
   "outputs": [
    {
     "data": {
      "text/plain": [
       "(7.896888573132535, 2.0992818971585668e-10, 0.05)"
      ]
     },
     "execution_count": 88,
     "metadata": {},
     "output_type": "execute_result"
    }
   ],
   "source": [
    "t, p = stats.ttest_1samp(compact_car,avg_car_fuel_efficiency)\n",
    "t, p/2, alpha"
   ]
  },
  {
   "cell_type": "markdown",
   "id": "4763f05b",
   "metadata": {},
   "source": [
    "### p < alpha and t > 0 = reject H0 (compact car fuel-efficiency > than average car"
   ]
  },
  {
   "cell_type": "markdown",
   "id": "d06485a2",
   "metadata": {},
   "source": [
    "## Do manual cars get better gas mileage than automatic cars?\n",
    "### H0: Manuela car gas mileage <= automatic cars gas mileage\n",
    "### H1: Manual cars gas mileage > automatic cars gas mileage\n",
    "\n",
    "#### Test: 2 Sample, 1 Tail\n",
    "#### Normal: Yes\n",
    "#### Independent: Yes\n",
    "#### Variance: No"
   ]
  },
  {
   "cell_type": "code",
   "execution_count": 82,
   "id": "6f9047ca",
   "metadata": {},
   "outputs": [],
   "source": [
    "# create series for manual fuel efficiency\n",
    "manuals = mpg[mpg.trans.str.contains('manual')].fuel_efficiency"
   ]
  },
  {
   "cell_type": "code",
   "execution_count": 84,
   "id": "a6b8538b",
   "metadata": {},
   "outputs": [],
   "source": [
    "# create sereis for automatic fuel efficiency\n",
    "auto = mpg[mpg.trans.str.contains('auto')].fuel_efficiency"
   ]
  },
  {
   "cell_type": "code",
   "execution_count": 85,
   "id": "16543027",
   "metadata": {},
   "outputs": [
    {
     "data": {
      "text/plain": [
       "False"
      ]
     },
     "execution_count": 85,
     "metadata": {},
     "output_type": "execute_result"
    }
   ],
   "source": [
    "# check if variances equal\n",
    "manuals.var() == auto.var()"
   ]
  },
  {
   "cell_type": "code",
   "execution_count": 89,
   "id": "4c516097",
   "metadata": {},
   "outputs": [
    {
     "data": {
      "text/plain": [
       "(4.443514012903071, 8.976124499958965e-06, 0.05)"
      ]
     },
     "execution_count": 89,
     "metadata": {},
     "output_type": "execute_result"
    }
   ],
   "source": [
    "# find t,p for 2 sample test with 1 tail\n",
    "t, p = stats.ttest_ind(manuals, auto, equal_var=False)\n",
    "t, p/2, alpha"
   ]
  },
  {
   "cell_type": "markdown",
   "id": "4f838591",
   "metadata": {},
   "source": [
    "### p < alpha & t > 0 = reject H0 (manual car gas mileage is > than automatic cars gas mileage "
   ]
  }
 ],
 "metadata": {
  "kernelspec": {
   "display_name": "Python 3",
   "language": "python",
   "name": "python3"
  },
  "language_info": {
   "codemirror_mode": {
    "name": "ipython",
    "version": 3
   },
   "file_extension": ".py",
   "mimetype": "text/x-python",
   "name": "python",
   "nbconvert_exporter": "python",
   "pygments_lexer": "ipython3",
   "version": "3.8.8"
  }
 },
 "nbformat": 4,
 "nbformat_minor": 5
}
