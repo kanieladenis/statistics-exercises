{
 "cells": [
  {
   "cell_type": "markdown",
   "id": "b19792a3",
   "metadata": {},
   "source": [
    "## For each of the following questions, formulate a null and alternative hypothesis (be as specific as you can be), then give an example of what a true positive, true negative, type I and type II errors would look like. Note that some of the questions are intentionally phrased in a vague way. It is your job to reword these as more precise questions that could be tested.\n",
    "- Has the network latency gone up since we switched internet service providers?\n",
    "- Is the website redesign any good?\n",
    "- Is our television ad driving more sales?"
   ]
  },
  {
   "cell_type": "markdown",
   "id": "b9a01971",
   "metadata": {},
   "source": [
    "## 1) Has the network latency gone up since we switched internet service providers?\n",
    "### formulate a null and alternative hypothesis \n",
    "- There is not change in latency since switching internet providers\n",
    "- Latency has increasd since switching service providers\n",
    "### give an example of what a true positive, true negative, type I and type II errors would look like.\n",
    "- True Positive: Predicted latancy increased when it increased\n",
    "- True Negative: Predicted latancy decreased when it decreased\n",
    "- Type I Error(False Positive): Predicted latency increased when it decreased\n",
    "- Tyupe II Error (False Negative): Predicted latency decreased when it increased"
   ]
  },
  {
   "cell_type": "markdown",
   "id": "742b2a2c",
   "metadata": {},
   "source": [
    "## 2) Is the website redesign any good?\n",
    "### formulate a null and alternative hypothesis \n",
    "- Visits to the website has not changed since the redesign?\n",
    "- Visits increased in visits since the website redesign?\n",
    "### give an example of what a true positive, true negative, type I and type II errors would look like.\n",
    "- True Positive: Predicted Increase and increased\n",
    "- True Negative: Predicted No Increase and No Increase\n",
    "- Type I Error(False Positive): Predicted increase and didn't\n",
    "- Tyupe II Error (False Negative): Predicted no increase and did"
   ]
  },
  {
   "cell_type": "markdown",
   "id": "26302557",
   "metadata": {},
   "source": [
    "## 3) Is our television ad driving more sales?\n",
    "### formulate a null and alternative hypothesis \n",
    "- Sales has not changed since TV ad published\n",
    "- Sales increased since TV ad published\n",
    "## give an example of what a true positive, true negative, type I and type II errors would look like.\n",
    "- True Positive: Predicted visits increase and did\n",
    "- True Negative: Predicted no increase invisits and didn't\n",
    "- Type I Error(False Positive): Predicted increase and didn't\n",
    "- Tyupe II Error (False Negative): Predicted decrease and didn't"
   ]
  },
  {
   "cell_type": "code",
   "execution_count": null,
   "id": "db15b9fc",
   "metadata": {},
   "outputs": [],
   "source": []
  }
 ],
 "metadata": {
  "kernelspec": {
   "display_name": "Python 3",
   "language": "python",
   "name": "python3"
  },
  "language_info": {
   "codemirror_mode": {
    "name": "ipython",
    "version": 3
   },
   "file_extension": ".py",
   "mimetype": "text/x-python",
   "name": "python",
   "nbconvert_exporter": "python",
   "pygments_lexer": "ipython3",
   "version": "3.8.8"
  }
 },
 "nbformat": 4,
 "nbformat_minor": 5
}
